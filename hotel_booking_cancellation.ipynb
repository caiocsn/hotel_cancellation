{
 "cells": [
  {
   "cell_type": "markdown",
   "id": "71217603",
   "metadata": {},
   "source": [
    "# HOTEL BOOKING CANCELLATION\n",
    "\n",
    "Author: Caio Nunes (caiocsn@hotmail.com)\n",
    "\n",
    "Date: 2022-03-12"
   ]
  },
  {
   "cell_type": "markdown",
   "id": "20d01f80",
   "metadata": {},
   "source": [
    "# Loading packages"
   ]
  },
  {
   "cell_type": "code",
   "execution_count": 1034,
   "id": "34388913",
   "metadata": {},
   "outputs": [],
   "source": [
    "import pandas as pd\n",
    "import numpy as np\n",
    "import matplotlib.pyplot as plt\n",
    "import seaborn as sns\n",
    "from statsmodels.tsa.seasonal import seasonal_decompose\n",
    "from sklearn.preprocessing import OneHotEncoder\n",
    "from sklearn.ensemble import RandomForestClassifier\n",
    "from sklearn.model_selection import KFold, cross_validate, ShuffleSplit"
   ]
  },
  {
   "cell_type": "markdown",
   "id": "ccdcbca0",
   "metadata": {},
   "source": [
    "# Loading data"
   ]
  },
  {
   "cell_type": "code",
   "execution_count": 954,
   "id": "ad86ed56",
   "metadata": {},
   "outputs": [
    {
     "data": {
      "text/html": [
       "<div>\n",
       "<style scoped>\n",
       "    .dataframe tbody tr th:only-of-type {\n",
       "        vertical-align: middle;\n",
       "    }\n",
       "\n",
       "    .dataframe tbody tr th {\n",
       "        vertical-align: top;\n",
       "    }\n",
       "\n",
       "    .dataframe thead th {\n",
       "        text-align: right;\n",
       "    }\n",
       "</style>\n",
       "<table border=\"1\" class=\"dataframe\">\n",
       "  <thead>\n",
       "    <tr style=\"text-align: right;\">\n",
       "      <th></th>\n",
       "      <th>date</th>\n",
       "      <th>type</th>\n",
       "      <th>cancellation</th>\n",
       "      <th>days_between_booking_arrival</th>\n",
       "      <th>week_number_arrival_date</th>\n",
       "      <th>num_weekend_nights</th>\n",
       "      <th>num_workweek_nights</th>\n",
       "      <th>num_adults</th>\n",
       "      <th>num_children</th>\n",
       "      <th>num_babies</th>\n",
       "      <th>...</th>\n",
       "      <th>reserved_room</th>\n",
       "      <th>changes_between_booking_arrival</th>\n",
       "      <th>deposit_policy</th>\n",
       "      <th>id_travel_agency_booking</th>\n",
       "      <th>id_person_booking</th>\n",
       "      <th>customer_type</th>\n",
       "      <th>avg_price</th>\n",
       "      <th>required_car_parking_spaces</th>\n",
       "      <th>total_of_special_requests</th>\n",
       "      <th>booking_month</th>\n",
       "    </tr>\n",
       "  </thead>\n",
       "  <tbody>\n",
       "    <tr>\n",
       "      <th>0</th>\n",
       "      <td>2015-07-01</td>\n",
       "      <td>Fancy Hotel</td>\n",
       "      <td>0</td>\n",
       "      <td>342</td>\n",
       "      <td>27</td>\n",
       "      <td>0</td>\n",
       "      <td>0</td>\n",
       "      <td>2</td>\n",
       "      <td>0.0</td>\n",
       "      <td>0</td>\n",
       "      <td>...</td>\n",
       "      <td>C</td>\n",
       "      <td>3</td>\n",
       "      <td>No Deposit</td>\n",
       "      <td>NaN</td>\n",
       "      <td>NaN</td>\n",
       "      <td>0</td>\n",
       "      <td>0.00</td>\n",
       "      <td>0</td>\n",
       "      <td>0</td>\n",
       "      <td>7</td>\n",
       "    </tr>\n",
       "    <tr>\n",
       "      <th>1</th>\n",
       "      <td>2015-07-01</td>\n",
       "      <td>Fancy Hotel</td>\n",
       "      <td>0</td>\n",
       "      <td>737</td>\n",
       "      <td>27</td>\n",
       "      <td>0</td>\n",
       "      <td>0</td>\n",
       "      <td>2</td>\n",
       "      <td>0.0</td>\n",
       "      <td>0</td>\n",
       "      <td>...</td>\n",
       "      <td>C</td>\n",
       "      <td>4</td>\n",
       "      <td>No Deposit</td>\n",
       "      <td>NaN</td>\n",
       "      <td>NaN</td>\n",
       "      <td>0</td>\n",
       "      <td>0.00</td>\n",
       "      <td>0</td>\n",
       "      <td>0</td>\n",
       "      <td>7</td>\n",
       "    </tr>\n",
       "    <tr>\n",
       "      <th>2</th>\n",
       "      <td>2015-07-01</td>\n",
       "      <td>Fancy Hotel</td>\n",
       "      <td>0</td>\n",
       "      <td>7</td>\n",
       "      <td>27</td>\n",
       "      <td>0</td>\n",
       "      <td>1</td>\n",
       "      <td>1</td>\n",
       "      <td>0.0</td>\n",
       "      <td>0</td>\n",
       "      <td>...</td>\n",
       "      <td>A</td>\n",
       "      <td>0</td>\n",
       "      <td>No Deposit</td>\n",
       "      <td>NaN</td>\n",
       "      <td>NaN</td>\n",
       "      <td>0</td>\n",
       "      <td>75.00</td>\n",
       "      <td>0</td>\n",
       "      <td>0</td>\n",
       "      <td>7</td>\n",
       "    </tr>\n",
       "    <tr>\n",
       "      <th>3</th>\n",
       "      <td>2015-07-01</td>\n",
       "      <td>Fancy Hotel</td>\n",
       "      <td>0</td>\n",
       "      <td>13</td>\n",
       "      <td>27</td>\n",
       "      <td>0</td>\n",
       "      <td>1</td>\n",
       "      <td>1</td>\n",
       "      <td>0.0</td>\n",
       "      <td>0</td>\n",
       "      <td>...</td>\n",
       "      <td>A</td>\n",
       "      <td>0</td>\n",
       "      <td>No Deposit</td>\n",
       "      <td>304.0</td>\n",
       "      <td>NaN</td>\n",
       "      <td>0</td>\n",
       "      <td>75.00</td>\n",
       "      <td>0</td>\n",
       "      <td>0</td>\n",
       "      <td>7</td>\n",
       "    </tr>\n",
       "    <tr>\n",
       "      <th>4</th>\n",
       "      <td>2015-07-01</td>\n",
       "      <td>Fancy Hotel</td>\n",
       "      <td>0</td>\n",
       "      <td>14</td>\n",
       "      <td>27</td>\n",
       "      <td>0</td>\n",
       "      <td>2</td>\n",
       "      <td>2</td>\n",
       "      <td>0.0</td>\n",
       "      <td>0</td>\n",
       "      <td>...</td>\n",
       "      <td>A</td>\n",
       "      <td>0</td>\n",
       "      <td>No Deposit</td>\n",
       "      <td>240.0</td>\n",
       "      <td>NaN</td>\n",
       "      <td>0</td>\n",
       "      <td>98.00</td>\n",
       "      <td>0</td>\n",
       "      <td>1</td>\n",
       "      <td>7</td>\n",
       "    </tr>\n",
       "    <tr>\n",
       "      <th>...</th>\n",
       "      <td>...</td>\n",
       "      <td>...</td>\n",
       "      <td>...</td>\n",
       "      <td>...</td>\n",
       "      <td>...</td>\n",
       "      <td>...</td>\n",
       "      <td>...</td>\n",
       "      <td>...</td>\n",
       "      <td>...</td>\n",
       "      <td>...</td>\n",
       "      <td>...</td>\n",
       "      <td>...</td>\n",
       "      <td>...</td>\n",
       "      <td>...</td>\n",
       "      <td>...</td>\n",
       "      <td>...</td>\n",
       "      <td>...</td>\n",
       "      <td>...</td>\n",
       "      <td>...</td>\n",
       "      <td>...</td>\n",
       "      <td>...</td>\n",
       "    </tr>\n",
       "    <tr>\n",
       "      <th>119385</th>\n",
       "      <td>2017-08-30</td>\n",
       "      <td>Hotel</td>\n",
       "      <td>0</td>\n",
       "      <td>23</td>\n",
       "      <td>35</td>\n",
       "      <td>2</td>\n",
       "      <td>5</td>\n",
       "      <td>2</td>\n",
       "      <td>0.0</td>\n",
       "      <td>0</td>\n",
       "      <td>...</td>\n",
       "      <td>A</td>\n",
       "      <td>0</td>\n",
       "      <td>No Deposit</td>\n",
       "      <td>394.0</td>\n",
       "      <td>NaN</td>\n",
       "      <td>0</td>\n",
       "      <td>96.14</td>\n",
       "      <td>0</td>\n",
       "      <td>0</td>\n",
       "      <td>8</td>\n",
       "    </tr>\n",
       "    <tr>\n",
       "      <th>119386</th>\n",
       "      <td>2017-08-31</td>\n",
       "      <td>Hotel</td>\n",
       "      <td>0</td>\n",
       "      <td>102</td>\n",
       "      <td>35</td>\n",
       "      <td>2</td>\n",
       "      <td>5</td>\n",
       "      <td>3</td>\n",
       "      <td>0.0</td>\n",
       "      <td>0</td>\n",
       "      <td>...</td>\n",
       "      <td>E</td>\n",
       "      <td>0</td>\n",
       "      <td>No Deposit</td>\n",
       "      <td>9.0</td>\n",
       "      <td>NaN</td>\n",
       "      <td>0</td>\n",
       "      <td>225.43</td>\n",
       "      <td>0</td>\n",
       "      <td>2</td>\n",
       "      <td>8</td>\n",
       "    </tr>\n",
       "    <tr>\n",
       "      <th>119387</th>\n",
       "      <td>2017-08-31</td>\n",
       "      <td>Hotel</td>\n",
       "      <td>0</td>\n",
       "      <td>34</td>\n",
       "      <td>35</td>\n",
       "      <td>2</td>\n",
       "      <td>5</td>\n",
       "      <td>2</td>\n",
       "      <td>0.0</td>\n",
       "      <td>0</td>\n",
       "      <td>...</td>\n",
       "      <td>D</td>\n",
       "      <td>0</td>\n",
       "      <td>No Deposit</td>\n",
       "      <td>9.0</td>\n",
       "      <td>NaN</td>\n",
       "      <td>0</td>\n",
       "      <td>157.71</td>\n",
       "      <td>0</td>\n",
       "      <td>4</td>\n",
       "      <td>8</td>\n",
       "    </tr>\n",
       "    <tr>\n",
       "      <th>119388</th>\n",
       "      <td>2017-08-31</td>\n",
       "      <td>Hotel</td>\n",
       "      <td>0</td>\n",
       "      <td>109</td>\n",
       "      <td>35</td>\n",
       "      <td>2</td>\n",
       "      <td>5</td>\n",
       "      <td>2</td>\n",
       "      <td>0.0</td>\n",
       "      <td>0</td>\n",
       "      <td>...</td>\n",
       "      <td>A</td>\n",
       "      <td>0</td>\n",
       "      <td>No Deposit</td>\n",
       "      <td>89.0</td>\n",
       "      <td>NaN</td>\n",
       "      <td>0</td>\n",
       "      <td>104.40</td>\n",
       "      <td>0</td>\n",
       "      <td>0</td>\n",
       "      <td>8</td>\n",
       "    </tr>\n",
       "    <tr>\n",
       "      <th>119389</th>\n",
       "      <td>2017-08-29</td>\n",
       "      <td>Hotel</td>\n",
       "      <td>0</td>\n",
       "      <td>205</td>\n",
       "      <td>35</td>\n",
       "      <td>2</td>\n",
       "      <td>7</td>\n",
       "      <td>2</td>\n",
       "      <td>0.0</td>\n",
       "      <td>0</td>\n",
       "      <td>...</td>\n",
       "      <td>A</td>\n",
       "      <td>0</td>\n",
       "      <td>No Deposit</td>\n",
       "      <td>9.0</td>\n",
       "      <td>NaN</td>\n",
       "      <td>0</td>\n",
       "      <td>151.20</td>\n",
       "      <td>0</td>\n",
       "      <td>2</td>\n",
       "      <td>8</td>\n",
       "    </tr>\n",
       "  </tbody>\n",
       "</table>\n",
       "<p>119390 rows × 27 columns</p>\n",
       "</div>"
      ],
      "text/plain": [
       "             date         type  cancellation  days_between_booking_arrival  \\\n",
       "0      2015-07-01  Fancy Hotel             0                           342   \n",
       "1      2015-07-01  Fancy Hotel             0                           737   \n",
       "2      2015-07-01  Fancy Hotel             0                             7   \n",
       "3      2015-07-01  Fancy Hotel             0                            13   \n",
       "4      2015-07-01  Fancy Hotel             0                            14   \n",
       "...           ...          ...           ...                           ...   \n",
       "119385 2017-08-30        Hotel             0                            23   \n",
       "119386 2017-08-31        Hotel             0                           102   \n",
       "119387 2017-08-31        Hotel             0                            34   \n",
       "119388 2017-08-31        Hotel             0                           109   \n",
       "119389 2017-08-29        Hotel             0                           205   \n",
       "\n",
       "        week_number_arrival_date  num_weekend_nights  num_workweek_nights  \\\n",
       "0                             27                   0                    0   \n",
       "1                             27                   0                    0   \n",
       "2                             27                   0                    1   \n",
       "3                             27                   0                    1   \n",
       "4                             27                   0                    2   \n",
       "...                          ...                 ...                  ...   \n",
       "119385                        35                   2                    5   \n",
       "119386                        35                   2                    5   \n",
       "119387                        35                   2                    5   \n",
       "119388                        35                   2                    5   \n",
       "119389                        35                   2                    7   \n",
       "\n",
       "        num_adults  num_children  num_babies  ...  reserved_room  \\\n",
       "0                2           0.0           0  ...              C   \n",
       "1                2           0.0           0  ...              C   \n",
       "2                1           0.0           0  ...              A   \n",
       "3                1           0.0           0  ...              A   \n",
       "4                2           0.0           0  ...              A   \n",
       "...            ...           ...         ...  ...            ...   \n",
       "119385           2           0.0           0  ...              A   \n",
       "119386           3           0.0           0  ...              E   \n",
       "119387           2           0.0           0  ...              D   \n",
       "119388           2           0.0           0  ...              A   \n",
       "119389           2           0.0           0  ...              A   \n",
       "\n",
       "       changes_between_booking_arrival  deposit_policy  \\\n",
       "0                                    3      No Deposit   \n",
       "1                                    4      No Deposit   \n",
       "2                                    0      No Deposit   \n",
       "3                                    0      No Deposit   \n",
       "4                                    0      No Deposit   \n",
       "...                                ...             ...   \n",
       "119385                               0      No Deposit   \n",
       "119386                               0      No Deposit   \n",
       "119387                               0      No Deposit   \n",
       "119388                               0      No Deposit   \n",
       "119389                               0      No Deposit   \n",
       "\n",
       "        id_travel_agency_booking  id_person_booking  customer_type  avg_price  \\\n",
       "0                            NaN                NaN              0       0.00   \n",
       "1                            NaN                NaN              0       0.00   \n",
       "2                            NaN                NaN              0      75.00   \n",
       "3                          304.0                NaN              0      75.00   \n",
       "4                          240.0                NaN              0      98.00   \n",
       "...                          ...                ...            ...        ...   \n",
       "119385                     394.0                NaN              0      96.14   \n",
       "119386                       9.0                NaN              0     225.43   \n",
       "119387                       9.0                NaN              0     157.71   \n",
       "119388                      89.0                NaN              0     104.40   \n",
       "119389                       9.0                NaN              0     151.20   \n",
       "\n",
       "       required_car_parking_spaces  total_of_special_requests booking_month  \n",
       "0                                0                          0             7  \n",
       "1                                0                          0             7  \n",
       "2                                0                          0             7  \n",
       "3                                0                          0             7  \n",
       "4                                0                          1             7  \n",
       "...                            ...                        ...           ...  \n",
       "119385                           0                          0             8  \n",
       "119386                           0                          2             8  \n",
       "119387                           0                          4             8  \n",
       "119388                           0                          0             8  \n",
       "119389                           0                          2             8  \n",
       "\n",
       "[119390 rows x 27 columns]"
      ]
     },
     "execution_count": 954,
     "metadata": {},
     "output_type": "execute_result"
    }
   ],
   "source": [
    "data = pd.read_csv('cancellation_prediction.csv', parse_dates= {'date' : ['year_arrival_date',\n",
    "                                                                          'month_arrival_date',\n",
    "                                                                          'day_of_month_arrival_date']})\n",
    "data['booking_month'] = data['date'].apply(lambda x: x.month)\n",
    "data"
   ]
  },
  {
   "cell_type": "markdown",
   "id": "28a7a1a6",
   "metadata": {},
   "source": [
    "# Fixing missing values"
   ]
  },
  {
   "cell_type": "code",
   "execution_count": 955,
   "id": "a6aba7be",
   "metadata": {
    "scrolled": true
   },
   "outputs": [
    {
     "data": {
      "text/plain": [
       "date                               0.000000\n",
       "type                               0.000000\n",
       "cancellation                       0.000000\n",
       "days_between_booking_arrival       0.000000\n",
       "week_number_arrival_date           0.000000\n",
       "num_weekend_nights                 0.000000\n",
       "num_workweek_nights                0.000000\n",
       "num_adults                         0.000000\n",
       "num_children                       0.000034\n",
       "num_babies                         0.000000\n",
       "breakfast                          0.000000\n",
       "country                            0.004087\n",
       "market_segment                     0.000000\n",
       "distribution_channel               0.000000\n",
       "repeated_guest                     0.000000\n",
       "num_previous_cancellations         0.000000\n",
       "num_previous_stays                 0.000000\n",
       "reserved_room                      0.000000\n",
       "changes_between_booking_arrival    0.000000\n",
       "deposit_policy                     0.000000\n",
       "id_travel_agency_booking           0.136862\n",
       "id_person_booking                  0.943069\n",
       "customer_type                      0.000000\n",
       "avg_price                          0.000000\n",
       "required_car_parking_spaces        0.000000\n",
       "total_of_special_requests          0.000000\n",
       "booking_month                      0.000000\n",
       "dtype: float64"
      ]
     },
     "execution_count": 955,
     "metadata": {},
     "output_type": "execute_result"
    }
   ],
   "source": [
    "data.isna().sum()/len(data)"
   ]
  },
  {
   "cell_type": "markdown",
   "id": "ad72790b",
   "metadata": {},
   "source": [
    "### Country\n",
    "\n",
    "The country variable has less the 1% of missing values, we'll simply drop the rows with no contry data."
   ]
  },
  {
   "cell_type": "code",
   "execution_count": 956,
   "id": "564701aa",
   "metadata": {},
   "outputs": [],
   "source": [
    "data = data[data['country'].notna()]"
   ]
  },
  {
   "cell_type": "markdown",
   "id": "15d16c6b",
   "metadata": {},
   "source": [
    "### Travel agency\n",
    "\n",
    "As the id of the booking company can still be useful to us and its level of complite is pretty fair we will be filling the missing values with 0. This way we'll be able to identify the bookings that hasn't came from an agency."
   ]
  },
  {
   "cell_type": "code",
   "execution_count": 957,
   "id": "ecca55c5",
   "metadata": {},
   "outputs": [
    {
     "name": "stderr",
     "output_type": "stream",
     "text": [
      "<ipython-input-957-2f7e4864a2db>:1: SettingWithCopyWarning: \n",
      "A value is trying to be set on a copy of a slice from a DataFrame.\n",
      "Try using .loc[row_indexer,col_indexer] = value instead\n",
      "\n",
      "See the caveats in the documentation: https://pandas.pydata.org/pandas-docs/stable/user_guide/indexing.html#returning-a-view-versus-a-copy\n",
      "  data['id_travel_agency_booking'] = data['id_travel_agency_booking'].fillna(0)\n"
     ]
    }
   ],
   "source": [
    "data['id_travel_agency_booking'] = data['id_travel_agency_booking'].fillna(0)"
   ]
  },
  {
   "cell_type": "markdown",
   "id": "fe4ffd2d",
   "metadata": {},
   "source": [
    "### Person ID\n",
    "\n",
    "We'll drop this column, with this level of incompleteness there is no much we can do for now."
   ]
  },
  {
   "cell_type": "code",
   "execution_count": 958,
   "id": "39d5e07e",
   "metadata": {},
   "outputs": [],
   "source": [
    "data = data.drop(columns = 'id_person_booking')"
   ]
  },
  {
   "cell_type": "markdown",
   "id": "b9a282bd",
   "metadata": {},
   "source": [
    "# Balancing the dataset\n",
    "\n",
    "As our main task here is to build a classification model using this dataset as input, it's prudent to balance the dataset according to the target variable 'cancellation'."
   ]
  },
  {
   "cell_type": "code",
   "execution_count": 959,
   "id": "411cfe82",
   "metadata": {},
   "outputs": [
    {
     "data": {
      "text/plain": [
       "<AxesSubplot:xlabel='cancellation', ylabel='count'>"
      ]
     },
     "execution_count": 959,
     "metadata": {},
     "output_type": "execute_result"
    },
    {
     "data": {
      "image/png": "[encoded data removed]",
      "text/plain": [
       "<Figure size 432x432 with 1 Axes>"
      ]
     },
     "metadata": {
      "needs_background": "light"
     },
     "output_type": "display_data"
    }
   ],
   "source": [
    "plt.figure(figsize = (6,6))\n",
    "sns.countplot(x = data['cancellation'])"
   ]
  },
  {
   "cell_type": "code",
   "execution_count": 960,
   "id": "19efe34c",
   "metadata": {},
   "outputs": [
    {
     "data": {
      "text/plain": [
       "<AxesSubplot:xlabel='cancellation', ylabel='count'>"
      ]
     },
     "execution_count": 960,
     "metadata": {},
     "output_type": "execute_result"
    },
    {
     "data": {
      "image/png": "[encoded data removed]",
      "text/plain": [
       "<Figure size 432x432 with 1 Axes>"
      ]
     },
     "metadata": {
      "needs_background": "light"
     },
     "output_type": "display_data"
    }
   ],
   "source": [
    "df1 = data[data['cancellation'] == 1]\n",
    "df2 = data[data['cancellation'] == 0].sample(n = len(df1), replace = False)\n",
    "b_data = df1.append(df2, ignore_index = True).sample(frac = 1)\n",
    "\n",
    "del df1\n",
    "del df2\n",
    "\n",
    "plt.figure(figsize = (6,6))\n",
    "sns.countplot(x = b_data['cancellation'])"
   ]
  },
  {
   "cell_type": "markdown",
   "id": "5bb01e67",
   "metadata": {},
   "source": [
    "# Creating new variables"
   ]
  },
  {
   "cell_type": "markdown",
   "id": "f4059106",
   "metadata": {},
   "source": [
    "**fancy_hotel?** - Creating a better intepretable variable for the type column\n",
    "\n",
    "**booking_arrival_distance** - Dividing the 'days_between_booking_arrival' variable into parcetiles\n",
    "\n",
    "**total_nights** - Getting the total number of nights per booking\n",
    "\n",
    "**num_of_guests** - Total number of guests including adults, children and babies\n",
    "\n",
    "**cancelled_before?** - Wheter this booking has been cancellated before or not\n",
    "\n",
    "**booking_changesd** - Has this booking been changed befored?\n",
    "\n",
    "**agency?** - Wheter the reservation came from a travel agency or not\n",
    "\n",
    "**hotel_price_range** - Dividing 'avg_price' into categories\n",
    "\n",
    "**required_parking_space?** - Wheter the costumer has required parking spaces or not\n",
    "\n",
    "**specia_requests?** - Has the costumer made any special requests?\n",
    "\n",
    "**year_season** - The season of the year of the booking date\n"
   ]
  },
  {
   "cell_type": "code",
   "execution_count": 961,
   "id": "ad6c1144",
   "metadata": {},
   "outputs": [],
   "source": [
    "def feature_engineering(data):\n",
    "    data_ = data.copy()\n",
    "    \n",
    "    data_['fancy_hotel?'] = (data_['type'] == 'Fancy Hotel').astype(int)\n",
    "    data_['booking_arrival_distance'] = pd.qcut(data_['days_between_booking_arrival'], 5, \n",
    "             labels = list(range(5)))\n",
    "    data_['total_nights'] = data_['num_weekend_nights'] +  data_['num_workweek_nights']\n",
    "    data_['num_of_guests'] = data_['num_adults'] + data_['num_children'] + data_['num_babies']\n",
    "    data_['cancellled_before?'] = (data_['num_previous_cancellations'] > 0).astype(int)\n",
    "    data_['booking_changed?'] = (data_['changes_between_booking_arrival'] > 0).astype(int)\n",
    "    data_['agency?'] = (data_['id_travel_agency_booking'] != 0).astype(int)\n",
    "    data_['hotel_price_range'] = pd.qcut(data_['avg_price'], 3, list(range(3))).astype(str)\n",
    "    data_.loc[data_['avg_price'] > 200, 'hotel_price_range'] = 3\n",
    "    data_['required_parking_space?'] = (data_['required_car_parking_spaces'] > 0).astype(int)\n",
    "    data_['special_requests?'] = (data_['total_of_special_requests'] > 0).astype(int)\n",
    "    def season_by_month(date):\n",
    "        seasons = ['winter', 'spring', 'summer', 'fall']\n",
    "        idx = date.month%12 // 3\n",
    "        return seasons[idx]\n",
    "\n",
    "    data_['year_season'] = data_['date'].apply(season_by_month)\n",
    "    \n",
    "    return data_\n",
    "\n",
    "b_data = feature_engineering(b_data)"
   ]
  },
  {
   "cell_type": "markdown",
   "id": "e79b948a",
   "metadata": {},
   "source": [
    "# Removing outliers\n",
    "\n",
    "For this analysis we will not go deeper looking for outliers in the dataset. For now we'll remove some unconsciousness such as bookings without any guests or with zero reserved nights.\n"
   ]
  },
  {
   "cell_type": "code",
   "execution_count": 962,
   "id": "b8b9ec77",
   "metadata": {},
   "outputs": [],
   "source": [
    "sel = (b_data['num_of_guests'] > 0) & (b_data['total_nights'] > 0)\n",
    "b_data = b_data[sel]"
   ]
  },
  {
   "cell_type": "markdown",
   "id": "86001079",
   "metadata": {},
   "source": [
    "# Exploratory data analysis\n"
   ]
  },
  {
   "cell_type": "markdown",
   "id": "1ffc8307",
   "metadata": {},
   "source": [
    "### Temporal analysis\n",
    "\n",
    "We will investigate the relation between the data features and the target variable 'cancellation'."
   ]
  },
  {
   "cell_type": "code",
   "execution_count": 963,
   "id": "82d423d3",
   "metadata": {},
   "outputs": [
    {
     "data": {
      "text/plain": [
       "<AxesSubplot:title={'center':'Cancellation ratio over the time'}, xlabel='date', ylabel='cancellation'>"
      ]
     },
     "execution_count": 963,
     "metadata": {},
     "output_type": "execute_result"
    },
    {
     "data": {
      "image/png": "[encoded data removed]",
      "text/plain": [
       "<Figure size 1008x288 with 1 Axes>"
      ]
     },
     "metadata": {
      "needs_background": "light"
     },
     "output_type": "display_data"
    }
   ],
   "source": [
    "cancellation_series = b_data.groupby('date').agg({'cancellation': lambda x: sum(x)/len(x)}).reset_index()\n",
    "cancellation_series['cancellation'] = cancellation_series['cancellation'].rolling(window=5).mean()\n",
    "plt.figure(figsize = (14, 4))\n",
    "plt.title('Cancellation ratio over the time')\n",
    "sns.lineplot(data = cancellation_series, y = 'cancellation', x = 'date')"
   ]
  },
  {
   "cell_type": "code",
   "execution_count": 964,
   "id": "1e319532",
   "metadata": {},
   "outputs": [
    {
     "data": {
      "text/plain": [
       "Text(0.5, 1.0, 'Trend')"
      ]
     },
     "execution_count": 964,
     "metadata": {},
     "output_type": "execute_result"
    },
    {
     "data": {
      "image/png": "[encoded data removed]",
      "text/plain": [
       "<Figure size 1008x288 with 2 Axes>"
      ]
     },
     "metadata": {
      "needs_background": "light"
     },
     "output_type": "display_data"
    }
   ],
   "source": [
    "try:\n",
    "    cancellation_series = cancellation_series.set_index('date')\n",
    "except KeyError:\n",
    "    pass\n",
    "decompose_result = seasonal_decompose(cancellation_series.dropna(), model = 'additive', period = 365)\n",
    "\n",
    "fig, ax = plt.subplots(1, 2, figsize=(14, 4))\n",
    "sns.lineplot(ax = ax[0], y = decompose_result.seasonal.values, x = decompose_result.seasonal.index)\n",
    "ax[0].set_title('Seasonality')\n",
    "sns.lineplot(ax = ax[1], y = decompose_result.trend.values, x = decompose_result.trend.index)\n",
    "ax[1].set_title('Trend')\n"
   ]
  },
  {
   "cell_type": "markdown",
   "id": "c9b481b5",
   "metadata": {},
   "source": [
    " - As expected the cancellation event is somehow depedent of temporal features like the month and season of the year for which the reservation was made for. \n",
    "\n",
    "- Additionally, the series is displaying positive trend and so it's expected for the cancellation ratio to increase over the time.\n",
    "\n"
   ]
  },
  {
   "cell_type": "markdown",
   "id": "7a810dbd",
   "metadata": {},
   "source": [
    "### Features analysis\n",
    "From now on we'll divide the columns in three groups:\n",
    "1.  Hotel data\n",
    "2.  Costumer data\n",
    "3.  Booking data\n",
    "\n",
    "This approach will keep the analysis organized and will facilitate the results interpretation. "
   ]
  },
  {
   "cell_type": "code",
   "execution_count": 965,
   "id": "94671ffa",
   "metadata": {},
   "outputs": [],
   "source": [
    "def bootstraping_prob(data, feature, n = 15):\n",
    "    result = pd.DataFrame()\n",
    "    for i in range(n):\n",
    "        iteration = data.sample(frac=1, replace = True).groupby(feature).agg({'cancellation': lambda x: x.sum()/len(x)}).transpose()\n",
    "        result = result.append(iteration, ignore_index = True)\n",
    "    return result\n",
    "\n"
   ]
  },
  {
   "cell_type": "markdown",
   "id": "d801f3f6",
   "metadata": {},
   "source": [
    "#### Hotel data"
   ]
  },
  {
   "cell_type": "code",
   "execution_count": 966,
   "id": "67874529",
   "metadata": {},
   "outputs": [],
   "source": [
    "hotel_features = ['country', 'market_segment', 'fancy_hotel?', 'deposit_policy', 'cancellation']"
   ]
  },
  {
   "cell_type": "code",
   "execution_count": 967,
   "id": "cd69f37e",
   "metadata": {
    "scrolled": true
   },
   "outputs": [],
   "source": [
    "def bootstraping_prob(data, feature, n = 15):\n",
    "    bs_samples = pd.DataFrame()\n",
    "    for i in range(n):\n",
    "        iteration = data.sample(frac=0.1, replace = True).groupby(feature).agg({'cancellation': lambda x: x.sum()/len(x)}).transpose()\n",
    "        bs_samples = bs_samples.append(iteration, ignore_index = True)\n",
    "    \n",
    "    result = pd.DataFrame()\n",
    "    for col in bs_samples.columns:\n",
    "        mean = bs_samples[col].median()\n",
    "        lower_bound = np.round(bs_samples[col].quantile(0.05), 2)\n",
    "        upper_bound = np.round(bs_samples[col].quantile(0.95), 2)\n",
    "        result = result.append({'category': col, 'mean': mean, 'confidence_interval': (lower_bound, upper_bound)},\n",
    "                              ignore_index = True)\n",
    "    return result\n",
    "\n",
    "def get_cancellation_prob(data, feature):\n",
    "    x = data.groupby(feature).agg({'cancellation': lambda x: sum(x)/len(x)})\n",
    "    x.columns = ['cancelled']\n",
    "    x['not_cancelled'] = 1 - x['cancelled']\n",
    "    return x.plot(kind = 'bar', stacked = True, figsize = (8,6))"
   ]
  },
  {
   "cell_type": "markdown",
   "id": "e04bb653",
   "metadata": {},
   "source": [
    "##### Market Segment\n",
    "\n",
    "This variable represents the market segment the hotel belongs to. \n",
    "\n",
    "- Categories 4 and 7 have very low representation in the dataset.\n",
    "- Categories 2 and 3 have seems to have equal probability of suffering a cancellation or not.\n",
    "- Categories 0, 1 and 4 have low propability of cancellation.\n",
    "- Category 5 has a high cancellation chance.\n",
    "- It was not possible to make trustable conclusions about market segment 7 hotels.\n",
    "- We will replace this columns by two binary features 'high_cancellation_market' and 'low_cancellation_market' "
   ]
  },
  {
   "cell_type": "code",
   "execution_count": 993,
   "id": "e6a65fbe",
   "metadata": {},
   "outputs": [],
   "source": [
    "def get_high_cancellation_market(data):\n",
    "    result = (data['market_segment'] == 5).astype(int)\n",
    "    return result\n",
    "def get_low_cancellation_market(data):\n",
    "    result = (data['market_segment'].isin([0,1,4])).astype(int)\n",
    "    return result"
   ]
  },
  {
   "cell_type": "code",
   "execution_count": 968,
   "id": "5952fc9b",
   "metadata": {},
   "outputs": [
    {
     "data": {
      "text/plain": [
       "2    0.473523\n",
       "3    0.200430\n",
       "5    0.188988\n",
       "0    0.091517\n",
       "1    0.038631\n",
       "4    0.005260\n",
       "7    0.001651\n",
       "Name: market_segment, dtype: float64"
      ]
     },
     "execution_count": 968,
     "metadata": {},
     "output_type": "execute_result"
    }
   ],
   "source": [
    "b_data['market_segment'].value_counts(normalize = True)"
   ]
  },
  {
   "cell_type": "code",
   "execution_count": 969,
   "id": "9e4dd83c",
   "metadata": {
    "scrolled": true
   },
   "outputs": [
    {
     "data": {
      "text/html": [
       "<div>\n",
       "<style scoped>\n",
       "    .dataframe tbody tr th:only-of-type {\n",
       "        vertical-align: middle;\n",
       "    }\n",
       "\n",
       "    .dataframe tbody tr th {\n",
       "        vertical-align: top;\n",
       "    }\n",
       "\n",
       "    .dataframe thead th {\n",
       "        text-align: right;\n",
       "    }\n",
       "</style>\n",
       "<table border=\"1\" class=\"dataframe\">\n",
       "  <thead>\n",
       "    <tr style=\"text-align: right;\">\n",
       "      <th></th>\n",
       "      <th>category</th>\n",
       "      <th>confidence_interval</th>\n",
       "      <th>mean</th>\n",
       "    </tr>\n",
       "  </thead>\n",
       "  <tbody>\n",
       "    <tr>\n",
       "      <th>0</th>\n",
       "      <td>0.0</td>\n",
       "      <td>(0.21, 0.27)</td>\n",
       "      <td>0.240296</td>\n",
       "    </tr>\n",
       "    <tr>\n",
       "      <th>1</th>\n",
       "      <td>1.0</td>\n",
       "      <td>(0.25, 0.32)</td>\n",
       "      <td>0.287976</td>\n",
       "    </tr>\n",
       "    <tr>\n",
       "      <th>2</th>\n",
       "      <td>2.0</td>\n",
       "      <td>(0.49, 0.51)</td>\n",
       "      <td>0.496808</td>\n",
       "    </tr>\n",
       "    <tr>\n",
       "      <th>3</th>\n",
       "      <td>3.0</td>\n",
       "      <td>(0.45, 0.48)</td>\n",
       "      <td>0.469839</td>\n",
       "    </tr>\n",
       "    <tr>\n",
       "      <th>4</th>\n",
       "      <td>4.0</td>\n",
       "      <td>(0.09, 0.3)</td>\n",
       "      <td>0.202041</td>\n",
       "    </tr>\n",
       "    <tr>\n",
       "      <th>5</th>\n",
       "      <td>5.0</td>\n",
       "      <td>(0.71, 0.74)</td>\n",
       "      <td>0.726971</td>\n",
       "    </tr>\n",
       "    <tr>\n",
       "      <th>6</th>\n",
       "      <td>7.0</td>\n",
       "      <td>(0.1, 0.61)</td>\n",
       "      <td>0.333333</td>\n",
       "    </tr>\n",
       "  </tbody>\n",
       "</table>\n",
       "</div>"
      ],
      "text/plain": [
       "   category confidence_interval      mean\n",
       "0       0.0        (0.21, 0.27)  0.240296\n",
       "1       1.0        (0.25, 0.32)  0.287976\n",
       "2       2.0        (0.49, 0.51)  0.496808\n",
       "3       3.0        (0.45, 0.48)  0.469839\n",
       "4       4.0         (0.09, 0.3)  0.202041\n",
       "5       5.0        (0.71, 0.74)  0.726971\n",
       "6       7.0         (0.1, 0.61)  0.333333"
      ]
     },
     "execution_count": 969,
     "metadata": {},
     "output_type": "execute_result"
    }
   ],
   "source": [
    "bootstraping_prob(b_data, 'market_segment', n = 100)"
   ]
  },
  {
   "cell_type": "code",
   "execution_count": 970,
   "id": "444863d7",
   "metadata": {},
   "outputs": [
    {
     "data": {
      "text/plain": [
       "<AxesSubplot:xlabel='market_segment'>"
      ]
     },
     "execution_count": 970,
     "metadata": {},
     "output_type": "execute_result"
    },
    {
     "data": {
      "image/png": "[encoded data removed]",
      "text/plain": [
       "<Figure size 576x432 with 1 Axes>"
      ]
     },
     "metadata": {
      "needs_background": "light"
     },
     "output_type": "display_data"
    }
   ],
   "source": [
    "get_cancellation_prob(b_data, 'market_segment')"
   ]
  },
  {
   "cell_type": "markdown",
   "id": "e927872b",
   "metadata": {},
   "source": [
    "##### Fancy hotel?\n",
    "\n",
    "The variable represents the fact of wheter the hotel is or not part of a more sofisticated category. The variable is binary and both classes have a fair representation.\n",
    "\n",
    "- Fancy hotels have about 40% cancellation probability (under the average).\n",
    "- Normal hotels have about 55% cancellation probability (slightly over the average).\n",
    "\n"
   ]
  },
  {
   "cell_type": "code",
   "execution_count": 971,
   "id": "7907ab29",
   "metadata": {},
   "outputs": [
    {
     "data": {
      "text/plain": [
       "0    0.684724\n",
       "1    0.315276\n",
       "Name: fancy_hotel?, dtype: float64"
      ]
     },
     "execution_count": 971,
     "metadata": {},
     "output_type": "execute_result"
    }
   ],
   "source": [
    "b_data['fancy_hotel?'].value_counts(normalize = True)"
   ]
  },
  {
   "cell_type": "code",
   "execution_count": 972,
   "id": "2ba5d0f0",
   "metadata": {
    "scrolled": true
   },
   "outputs": [
    {
     "data": {
      "text/html": [
       "<div>\n",
       "<style scoped>\n",
       "    .dataframe tbody tr th:only-of-type {\n",
       "        vertical-align: middle;\n",
       "    }\n",
       "\n",
       "    .dataframe tbody tr th {\n",
       "        vertical-align: top;\n",
       "    }\n",
       "\n",
       "    .dataframe thead th {\n",
       "        text-align: right;\n",
       "    }\n",
       "</style>\n",
       "<table border=\"1\" class=\"dataframe\">\n",
       "  <thead>\n",
       "    <tr style=\"text-align: right;\">\n",
       "      <th></th>\n",
       "      <th>category</th>\n",
       "      <th>confidence_interval</th>\n",
       "      <th>mean</th>\n",
       "    </tr>\n",
       "  </thead>\n",
       "  <tbody>\n",
       "    <tr>\n",
       "      <th>0</th>\n",
       "      <td>0.0</td>\n",
       "      <td>(0.54, 0.56)</td>\n",
       "      <td>0.548266</td>\n",
       "    </tr>\n",
       "    <tr>\n",
       "      <th>1</th>\n",
       "      <td>1.0</td>\n",
       "      <td>(0.39, 0.41)</td>\n",
       "      <td>0.399928</td>\n",
       "    </tr>\n",
       "  </tbody>\n",
       "</table>\n",
       "</div>"
      ],
      "text/plain": [
       "   category confidence_interval      mean\n",
       "0       0.0        (0.54, 0.56)  0.548266\n",
       "1       1.0        (0.39, 0.41)  0.399928"
      ]
     },
     "execution_count": 972,
     "metadata": {},
     "output_type": "execute_result"
    }
   ],
   "source": [
    "bootstraping_prob(b_data, 'fancy_hotel?', n = 100)"
   ]
  },
  {
   "cell_type": "code",
   "execution_count": 973,
   "id": "c8aabf1a",
   "metadata": {},
   "outputs": [
    {
     "data": {
      "text/plain": [
       "<AxesSubplot:xlabel='fancy_hotel?'>"
      ]
     },
     "execution_count": 973,
     "metadata": {},
     "output_type": "execute_result"
    },
    {
     "data": {
      "image/png": "[encoded data removed]",
      "text/plain": [
       "<Figure size 576x432 with 1 Axes>"
      ]
     },
     "metadata": {
      "needs_background": "light"
     },
     "output_type": "display_data"
    }
   ],
   "source": [
    "get_cancellation_prob(b_data, 'fancy_hotel?')"
   ]
  },
  {
   "cell_type": "markdown",
   "id": "90790d81",
   "metadata": {},
   "source": [
    "##### Country\n",
    "\n",
    "The dataset has 162 unique countries, we conduced the analysis with the 14 most frequent ones.\n",
    "\n",
    "- The cancellation ratio displays great variation according to the hotel country, for instance: PRT has about 70% cancellation ratio while FRA has only 27%.\n",
    "\n",
    "- As this feature has a huge number of unique values we will be replacing it by the corresponding target variable probability so the prediction model will be able to extract more value from it."
   ]
  },
  {
   "cell_type": "code",
   "execution_count": 1082,
   "id": "fac5e976",
   "metadata": {},
   "outputs": [],
   "source": [
    "def get_p_country(data):\n",
    "    most_frequent_countries = data['country'].value_counts(normalize = True)[:14].index\n",
    "    p_target = bootstraping_prob(data[data['country'].isin(most_frequent_countries)], 'country', n = 100)\n",
    "    result = pd.merge(data, p_target, how = 'left', left_on = 'country', right_on = 'category')['mean'].fillna(0.5).values\n",
    "    return result"
   ]
  },
  {
   "cell_type": "code",
   "execution_count": 974,
   "id": "2d58a49b",
   "metadata": {},
   "outputs": [
    {
     "data": {
      "text/plain": [
       "PRT    0.449853\n",
       "GBR    0.093099\n",
       "FRA    0.079084\n",
       "ESP    0.067334\n",
       "DEU    0.054548\n",
       "ITA    0.031515\n",
       "IRL    0.026346\n",
       "BRA    0.019025\n",
       "BEL    0.017522\n",
       "USA    0.016407\n",
       "NLD    0.016236\n",
       "CHE    0.013868\n",
       "CN     0.010031\n",
       "AUT    0.009347\n",
       "Name: country, dtype: float64"
      ]
     },
     "execution_count": 974,
     "metadata": {},
     "output_type": "execute_result"
    }
   ],
   "source": [
    "most_frequent_countries = b_data['country'].value_counts(normalize = True)[:14].index\n",
    "b_data['country'].value_counts(normalize = True)[:14]"
   ]
  },
  {
   "cell_type": "code",
   "execution_count": 995,
   "id": "4a002f1a",
   "metadata": {
    "scrolled": true
   },
   "outputs": [
    {
     "data": {
      "text/html": [
       "<div>\n",
       "<style scoped>\n",
       "    .dataframe tbody tr th:only-of-type {\n",
       "        vertical-align: middle;\n",
       "    }\n",
       "\n",
       "    .dataframe tbody tr th {\n",
       "        vertical-align: top;\n",
       "    }\n",
       "\n",
       "    .dataframe thead th {\n",
       "        text-align: right;\n",
       "    }\n",
       "</style>\n",
       "<table border=\"1\" class=\"dataframe\">\n",
       "  <thead>\n",
       "    <tr style=\"text-align: right;\">\n",
       "      <th></th>\n",
       "      <th>category</th>\n",
       "      <th>confidence_interval</th>\n",
       "      <th>mean</th>\n",
       "    </tr>\n",
       "  </thead>\n",
       "  <tbody>\n",
       "    <tr>\n",
       "      <th>0</th>\n",
       "      <td>AUT</td>\n",
       "      <td>(0.21, 0.38)</td>\n",
       "      <td>0.284962</td>\n",
       "    </tr>\n",
       "    <tr>\n",
       "      <th>1</th>\n",
       "      <td>BEL</td>\n",
       "      <td>(0.25, 0.37)</td>\n",
       "      <td>0.306240</td>\n",
       "    </tr>\n",
       "    <tr>\n",
       "      <th>2</th>\n",
       "      <td>BRA</td>\n",
       "      <td>(0.43, 0.55)</td>\n",
       "      <td>0.502813</td>\n",
       "    </tr>\n",
       "    <tr>\n",
       "      <th>3</th>\n",
       "      <td>CHE</td>\n",
       "      <td>(0.29, 0.43)</td>\n",
       "      <td>0.357273</td>\n",
       "    </tr>\n",
       "    <tr>\n",
       "      <th>4</th>\n",
       "      <td>CN</td>\n",
       "      <td>(0.18, 0.37)</td>\n",
       "      <td>0.271605</td>\n",
       "    </tr>\n",
       "    <tr>\n",
       "      <th>5</th>\n",
       "      <td>DEU</td>\n",
       "      <td>(0.23, 0.28)</td>\n",
       "      <td>0.252954</td>\n",
       "    </tr>\n",
       "    <tr>\n",
       "      <th>6</th>\n",
       "      <td>ESP</td>\n",
       "      <td>(0.33, 0.4)</td>\n",
       "      <td>0.365446</td>\n",
       "    </tr>\n",
       "    <tr>\n",
       "      <th>7</th>\n",
       "      <td>FRA</td>\n",
       "      <td>(0.26, 0.31)</td>\n",
       "      <td>0.282449</td>\n",
       "    </tr>\n",
       "    <tr>\n",
       "      <th>8</th>\n",
       "      <td>GBR</td>\n",
       "      <td>(0.27, 0.33)</td>\n",
       "      <td>0.298416</td>\n",
       "    </tr>\n",
       "    <tr>\n",
       "      <th>9</th>\n",
       "      <td>IRL</td>\n",
       "      <td>(0.31, 0.42)</td>\n",
       "      <td>0.363836</td>\n",
       "    </tr>\n",
       "    <tr>\n",
       "      <th>10</th>\n",
       "      <td>ITA</td>\n",
       "      <td>(0.44, 0.53)</td>\n",
       "      <td>0.480216</td>\n",
       "    </tr>\n",
       "    <tr>\n",
       "      <th>11</th>\n",
       "      <td>NLD</td>\n",
       "      <td>(0.21, 0.33)</td>\n",
       "      <td>0.269392</td>\n",
       "    </tr>\n",
       "    <tr>\n",
       "      <th>12</th>\n",
       "      <td>PRT</td>\n",
       "      <td>(0.69, 0.71)</td>\n",
       "      <td>0.696173</td>\n",
       "    </tr>\n",
       "    <tr>\n",
       "      <th>13</th>\n",
       "      <td>USA</td>\n",
       "      <td>(0.28, 0.4)</td>\n",
       "      <td>0.343070</td>\n",
       "    </tr>\n",
       "  </tbody>\n",
       "</table>\n",
       "</div>"
      ],
      "text/plain": [
       "   category confidence_interval      mean\n",
       "0       AUT        (0.21, 0.38)  0.284962\n",
       "1       BEL        (0.25, 0.37)  0.306240\n",
       "2       BRA        (0.43, 0.55)  0.502813\n",
       "3       CHE        (0.29, 0.43)  0.357273\n",
       "4        CN        (0.18, 0.37)  0.271605\n",
       "5       DEU        (0.23, 0.28)  0.252954\n",
       "6       ESP         (0.33, 0.4)  0.365446\n",
       "7       FRA        (0.26, 0.31)  0.282449\n",
       "8       GBR        (0.27, 0.33)  0.298416\n",
       "9       IRL        (0.31, 0.42)  0.363836\n",
       "10      ITA        (0.44, 0.53)  0.480216\n",
       "11      NLD        (0.21, 0.33)  0.269392\n",
       "12      PRT        (0.69, 0.71)  0.696173\n",
       "13      USA         (0.28, 0.4)  0.343070"
      ]
     },
     "execution_count": 995,
     "metadata": {},
     "output_type": "execute_result"
    }
   ],
   "source": [
    "bootstraping_prob(b_data[b_data['country'].isin(most_frequent_countries)], 'country', n = 100)"
   ]
  },
  {
   "cell_type": "code",
   "execution_count": 976,
   "id": "f144cd4e",
   "metadata": {
    "scrolled": true
   },
   "outputs": [
    {
     "data": {
      "text/plain": [
       "<AxesSubplot:xlabel='country'>"
      ]
     },
     "execution_count": 976,
     "metadata": {},
     "output_type": "execute_result"
    },
    {
     "data": {
      "image/png": "[encoded data removed]",
      "text/plain": [
       "<Figure size 576x432 with 1 Axes>"
      ]
     },
     "metadata": {
      "needs_background": "light"
     },
     "output_type": "display_data"
    }
   ],
   "source": [
    "get_cancellation_prob(b_data[b_data['country'].isin(most_frequent_countries)], 'country')"
   ]
  },
  {
   "cell_type": "markdown",
   "id": "2d7906f1",
   "metadata": {},
   "source": [
    "##### Deposit Policy\n",
    "\n",
    "The 'Refundable' class doesn't have enough representation, the 'Non Refund' class has about 99% cancellation probability.\n",
    "\n",
    "- We will be dropping this feature, there's something not right about it. It doesn't feel right for 99% of the non refund deposits to result in booking cancellations."
   ]
  },
  {
   "cell_type": "code",
   "execution_count": 977,
   "id": "1d168fa1",
   "metadata": {},
   "outputs": [
    {
     "data": {
      "text/plain": [
       "No Deposit    0.833191\n",
       "Non Refund    0.165477\n",
       "Refundable    0.001332\n",
       "Name: deposit_policy, dtype: float64"
      ]
     },
     "execution_count": 977,
     "metadata": {},
     "output_type": "execute_result"
    }
   ],
   "source": [
    "b_data['deposit_policy'].value_counts(normalize = True)"
   ]
  },
  {
   "cell_type": "code",
   "execution_count": 978,
   "id": "0131b1a9",
   "metadata": {},
   "outputs": [
    {
     "data": {
      "text/html": [
       "<div>\n",
       "<style scoped>\n",
       "    .dataframe tbody tr th:only-of-type {\n",
       "        vertical-align: middle;\n",
       "    }\n",
       "\n",
       "    .dataframe tbody tr th {\n",
       "        vertical-align: top;\n",
       "    }\n",
       "\n",
       "    .dataframe thead th {\n",
       "        text-align: right;\n",
       "    }\n",
       "</style>\n",
       "<table border=\"1\" class=\"dataframe\">\n",
       "  <thead>\n",
       "    <tr style=\"text-align: right;\">\n",
       "      <th></th>\n",
       "      <th>category</th>\n",
       "      <th>confidence_interval</th>\n",
       "      <th>mean</th>\n",
       "    </tr>\n",
       "  </thead>\n",
       "  <tbody>\n",
       "    <tr>\n",
       "      <th>0</th>\n",
       "      <td>No Deposit</td>\n",
       "      <td>(0.4, 0.41)</td>\n",
       "      <td>0.404778</td>\n",
       "    </tr>\n",
       "    <tr>\n",
       "      <th>1</th>\n",
       "      <td>Non Refund</td>\n",
       "      <td>(0.99, 1.0)</td>\n",
       "      <td>0.996001</td>\n",
       "    </tr>\n",
       "    <tr>\n",
       "      <th>2</th>\n",
       "      <td>Refundable</td>\n",
       "      <td>(0.11, 0.57)</td>\n",
       "      <td>0.300000</td>\n",
       "    </tr>\n",
       "  </tbody>\n",
       "</table>\n",
       "</div>"
      ],
      "text/plain": [
       "     category confidence_interval      mean\n",
       "0  No Deposit         (0.4, 0.41)  0.404778\n",
       "1  Non Refund         (0.99, 1.0)  0.996001\n",
       "2  Refundable        (0.11, 0.57)  0.300000"
      ]
     },
     "execution_count": 978,
     "metadata": {},
     "output_type": "execute_result"
    }
   ],
   "source": [
    "bootstraping_prob(b_data, 'deposit_policy', n = 100)"
   ]
  },
  {
   "cell_type": "code",
   "execution_count": 979,
   "id": "5b84985d",
   "metadata": {
    "scrolled": false
   },
   "outputs": [
    {
     "data": {
      "text/plain": [
       "<AxesSubplot:xlabel='deposit_policy'>"
      ]
     },
     "execution_count": 979,
     "metadata": {},
     "output_type": "execute_result"
    },
    {
     "data": {
      "image/png": "[encoded data removed]",
      "text/plain": [
       "<Figure size 576x432 with 1 Axes>"
      ]
     },
     "metadata": {
      "needs_background": "light"
     },
     "output_type": "display_data"
    }
   ],
   "source": [
    "get_cancellation_prob(b_data, 'deposit_policy')"
   ]
  },
  {
   "cell_type": "markdown",
   "id": "3fecfd51",
   "metadata": {},
   "source": [
    "#### Booking data\n",
    "\n",
    "This group has several features, all them are related to the booking information. As we made some feature engineering before some variables will have similar interpretation and so we won't need to analyze both (the original and the new one)"
   ]
  },
  {
   "cell_type": "code",
   "execution_count": 980,
   "id": "61d6aae7",
   "metadata": {},
   "outputs": [],
   "source": [
    "booking_columns = ['agency?', 'avg_price', 'booking_arrival_distance', 'booking_changed?', 'breakfast',\n",
    "                  'cancellled_before?','changes_between_booking_arrival','days_between_booking_arrival',\n",
    "                  'id_travel_agency_booking', 'num_adults', 'num_babies', 'num_children', 'num_of_guests',\n",
    "                  'num_weekend_nights', 'num_workweek_nights','repeated_guest', 'required_car_parking_spaces', \n",
    "                  'required_parking_space?', 'reserved_room', 'specia_requests?', 'total_nights', 'total_of_special_requests',\n",
    "                  'week_number_arrival_date', 'year_season', 'booking month']"
   ]
  },
  {
   "cell_type": "markdown",
   "id": "e275c952",
   "metadata": {},
   "source": [
    "##### Arrival month and season\n",
    "\n",
    "Sadly the month and season variables were not very informative to us. They are technically tied according to the confidence interval."
   ]
  },
  {
   "cell_type": "code",
   "execution_count": 981,
   "id": "10b0cf6d",
   "metadata": {},
   "outputs": [
    {
     "data": {
      "text/plain": [
       "8     0.116622\n",
       "7     0.106921\n",
       "5     0.100864\n",
       "4     0.095331\n",
       "6     0.093600\n",
       "10    0.093577\n",
       "9     0.088966\n",
       "3     0.080222\n",
       "2     0.066047\n",
       "12    0.055732\n",
       "11    0.054946\n",
       "1     0.047170\n",
       "Name: booking_month, dtype: float64"
      ]
     },
     "execution_count": 981,
     "metadata": {},
     "output_type": "execute_result"
    }
   ],
   "source": [
    "b_data['booking_month'].value_counts(normalize = True) "
   ]
  },
  {
   "cell_type": "code",
   "execution_count": 982,
   "id": "7c4f84f6",
   "metadata": {},
   "outputs": [
    {
     "data": {
      "text/html": [
       "<div>\n",
       "<style scoped>\n",
       "    .dataframe tbody tr th:only-of-type {\n",
       "        vertical-align: middle;\n",
       "    }\n",
       "\n",
       "    .dataframe tbody tr th {\n",
       "        vertical-align: top;\n",
       "    }\n",
       "\n",
       "    .dataframe thead th {\n",
       "        text-align: right;\n",
       "    }\n",
       "</style>\n",
       "<table border=\"1\" class=\"dataframe\">\n",
       "  <thead>\n",
       "    <tr style=\"text-align: right;\">\n",
       "      <th></th>\n",
       "      <th>category</th>\n",
       "      <th>confidence_interval</th>\n",
       "      <th>mean</th>\n",
       "    </tr>\n",
       "  </thead>\n",
       "  <tbody>\n",
       "    <tr>\n",
       "      <th>0</th>\n",
       "      <td>1.0</td>\n",
       "      <td>(0.39, 0.47)</td>\n",
       "      <td>0.432133</td>\n",
       "    </tr>\n",
       "    <tr>\n",
       "      <th>1</th>\n",
       "      <td>2.0</td>\n",
       "      <td>(0.44, 0.5)</td>\n",
       "      <td>0.463457</td>\n",
       "    </tr>\n",
       "    <tr>\n",
       "      <th>2</th>\n",
       "      <td>3.0</td>\n",
       "      <td>(0.42, 0.48)</td>\n",
       "      <td>0.447916</td>\n",
       "    </tr>\n",
       "    <tr>\n",
       "      <th>3</th>\n",
       "      <td>4.0</td>\n",
       "      <td>(0.52, 0.57)</td>\n",
       "      <td>0.536450</td>\n",
       "    </tr>\n",
       "    <tr>\n",
       "      <th>4</th>\n",
       "      <td>5.0</td>\n",
       "      <td>(0.5, 0.56)</td>\n",
       "      <td>0.526657</td>\n",
       "    </tr>\n",
       "    <tr>\n",
       "      <th>5</th>\n",
       "      <td>6.0</td>\n",
       "      <td>(0.52, 0.58)</td>\n",
       "      <td>0.544327</td>\n",
       "    </tr>\n",
       "    <tr>\n",
       "      <th>6</th>\n",
       "      <td>7.0</td>\n",
       "      <td>(0.48, 0.53)</td>\n",
       "      <td>0.502116</td>\n",
       "    </tr>\n",
       "    <tr>\n",
       "      <th>7</th>\n",
       "      <td>8.0</td>\n",
       "      <td>(0.49, 0.53)</td>\n",
       "      <td>0.509992</td>\n",
       "    </tr>\n",
       "    <tr>\n",
       "      <th>8</th>\n",
       "      <td>9.0</td>\n",
       "      <td>(0.5, 0.56)</td>\n",
       "      <td>0.524987</td>\n",
       "    </tr>\n",
       "    <tr>\n",
       "      <th>9</th>\n",
       "      <td>10.0</td>\n",
       "      <td>(0.49, 0.54)</td>\n",
       "      <td>0.516824</td>\n",
       "    </tr>\n",
       "    <tr>\n",
       "      <th>10</th>\n",
       "      <td>11.0</td>\n",
       "      <td>(0.4, 0.48)</td>\n",
       "      <td>0.443390</td>\n",
       "    </tr>\n",
       "    <tr>\n",
       "      <th>11</th>\n",
       "      <td>12.0</td>\n",
       "      <td>(0.44, 0.52)</td>\n",
       "      <td>0.482859</td>\n",
       "    </tr>\n",
       "  </tbody>\n",
       "</table>\n",
       "</div>"
      ],
      "text/plain": [
       "    category confidence_interval      mean\n",
       "0        1.0        (0.39, 0.47)  0.432133\n",
       "1        2.0         (0.44, 0.5)  0.463457\n",
       "2        3.0        (0.42, 0.48)  0.447916\n",
       "3        4.0        (0.52, 0.57)  0.536450\n",
       "4        5.0         (0.5, 0.56)  0.526657\n",
       "5        6.0        (0.52, 0.58)  0.544327\n",
       "6        7.0        (0.48, 0.53)  0.502116\n",
       "7        8.0        (0.49, 0.53)  0.509992\n",
       "8        9.0         (0.5, 0.56)  0.524987\n",
       "9       10.0        (0.49, 0.54)  0.516824\n",
       "10      11.0         (0.4, 0.48)  0.443390\n",
       "11      12.0        (0.44, 0.52)  0.482859"
      ]
     },
     "execution_count": 982,
     "metadata": {},
     "output_type": "execute_result"
    }
   ],
   "source": [
    "bootstraping_prob(b_data, 'booking_month', n = 100)"
   ]
  },
  {
   "cell_type": "code",
   "execution_count": 983,
   "id": "a5024ce4",
   "metadata": {},
   "outputs": [
    {
     "data": {
      "text/plain": [
       "<AxesSubplot:xlabel='booking_month'>"
      ]
     },
     "execution_count": 983,
     "metadata": {},
     "output_type": "execute_result"
    },
    {
     "data": {
      "image/png": "[encoded data removed]",
      "text/plain": [
       "<Figure size 576x432 with 1 Axes>"
      ]
     },
     "metadata": {
      "needs_background": "light"
     },
     "output_type": "display_data"
    }
   ],
   "source": [
    "get_cancellation_prob(b_data, 'booking_month')"
   ]
  },
  {
   "cell_type": "code",
   "execution_count": 984,
   "id": "55ec8f89",
   "metadata": {},
   "outputs": [
    {
     "data": {
      "text/html": [
       "<div>\n",
       "<style scoped>\n",
       "    .dataframe tbody tr th:only-of-type {\n",
       "        vertical-align: middle;\n",
       "    }\n",
       "\n",
       "    .dataframe tbody tr th {\n",
       "        vertical-align: top;\n",
       "    }\n",
       "\n",
       "    .dataframe thead th {\n",
       "        text-align: right;\n",
       "    }\n",
       "</style>\n",
       "<table border=\"1\" class=\"dataframe\">\n",
       "  <thead>\n",
       "    <tr style=\"text-align: right;\">\n",
       "      <th></th>\n",
       "      <th>category</th>\n",
       "      <th>confidence_interval</th>\n",
       "      <th>mean</th>\n",
       "    </tr>\n",
       "  </thead>\n",
       "  <tbody>\n",
       "    <tr>\n",
       "      <th>0</th>\n",
       "      <td>fall</td>\n",
       "      <td>(0.48, 0.52)</td>\n",
       "      <td>0.501525</td>\n",
       "    </tr>\n",
       "    <tr>\n",
       "      <th>1</th>\n",
       "      <td>spring</td>\n",
       "      <td>(0.49, 0.52)</td>\n",
       "      <td>0.506937</td>\n",
       "    </tr>\n",
       "    <tr>\n",
       "      <th>2</th>\n",
       "      <td>summer</td>\n",
       "      <td>(0.5, 0.53)</td>\n",
       "      <td>0.521353</td>\n",
       "    </tr>\n",
       "    <tr>\n",
       "      <th>3</th>\n",
       "      <td>winter</td>\n",
       "      <td>(0.44, 0.48)</td>\n",
       "      <td>0.464899</td>\n",
       "    </tr>\n",
       "  </tbody>\n",
       "</table>\n",
       "</div>"
      ],
      "text/plain": [
       "  category confidence_interval      mean\n",
       "0     fall        (0.48, 0.52)  0.501525\n",
       "1   spring        (0.49, 0.52)  0.506937\n",
       "2   summer         (0.5, 0.53)  0.521353\n",
       "3   winter        (0.44, 0.48)  0.464899"
      ]
     },
     "execution_count": 984,
     "metadata": {},
     "output_type": "execute_result"
    }
   ],
   "source": [
    "bootstraping_prob(b_data, 'year_season', n = 100)"
   ]
  },
  {
   "cell_type": "code",
   "execution_count": 985,
   "id": "35c8e4a7",
   "metadata": {},
   "outputs": [
    {
     "data": {
      "text/plain": [
       "<AxesSubplot:xlabel='year_season'>"
      ]
     },
     "execution_count": 985,
     "metadata": {},
     "output_type": "execute_result"
    },
    {
     "data": {
      "image/png": "[encoded data removed]",
      "text/plain": [
       "<Figure size 576x432 with 1 Axes>"
      ]
     },
     "metadata": {
      "needs_background": "light"
     },
     "output_type": "display_data"
    }
   ],
   "source": [
    "get_cancellation_prob(b_data, 'year_season')"
   ]
  },
  {
   "cell_type": "markdown",
   "id": "8095a01e",
   "metadata": {},
   "source": [
    "##### Average price\n",
    "\n",
    "The distribution of the price is basically the same among cancelled and not cancelled bookings. The analysis suggests that the price itself is not a meaningfull factor for the cancellation event."
   ]
  },
  {
   "cell_type": "code",
   "execution_count": 986,
   "id": "5d93ef9f",
   "metadata": {
    "scrolled": true
   },
   "outputs": [
    {
     "data": {
      "text/plain": [
       "count    87831.000000\n",
       "mean       102.970355\n",
       "std         46.828091\n",
       "min          0.000000\n",
       "25%         70.000000\n",
       "50%         95.000000\n",
       "75%        126.000000\n",
       "max        300.000000\n",
       "Name: avg_price, dtype: float64"
      ]
     },
     "execution_count": 986,
     "metadata": {},
     "output_type": "execute_result"
    }
   ],
   "source": [
    "b_data['avg_price'].describe()"
   ]
  },
  {
   "cell_type": "code",
   "execution_count": 987,
   "id": "242db8f7",
   "metadata": {},
   "outputs": [
    {
     "data": {
      "text/html": [
       "<div>\n",
       "<style scoped>\n",
       "    .dataframe tbody tr th:only-of-type {\n",
       "        vertical-align: middle;\n",
       "    }\n",
       "\n",
       "    .dataframe tbody tr th {\n",
       "        vertical-align: top;\n",
       "    }\n",
       "\n",
       "    .dataframe thead th {\n",
       "        text-align: right;\n",
       "    }\n",
       "</style>\n",
       "<table border=\"1\" class=\"dataframe\">\n",
       "  <thead>\n",
       "    <tr style=\"text-align: right;\">\n",
       "      <th></th>\n",
       "      <th>category</th>\n",
       "      <th>confidence_interval</th>\n",
       "      <th>mean</th>\n",
       "    </tr>\n",
       "  </thead>\n",
       "  <tbody>\n",
       "    <tr>\n",
       "      <th>0</th>\n",
       "      <td>3.0</td>\n",
       "      <td>(0.48, 0.56)</td>\n",
       "      <td>0.517471</td>\n",
       "    </tr>\n",
       "    <tr>\n",
       "      <th>1</th>\n",
       "      <td>0</td>\n",
       "      <td>(0.46, 0.49)</td>\n",
       "      <td>0.474550</td>\n",
       "    </tr>\n",
       "    <tr>\n",
       "      <th>2</th>\n",
       "      <td>1</td>\n",
       "      <td>(0.5, 0.53)</td>\n",
       "      <td>0.514876</td>\n",
       "    </tr>\n",
       "    <tr>\n",
       "      <th>3</th>\n",
       "      <td>2</td>\n",
       "      <td>(0.5, 0.53)</td>\n",
       "      <td>0.516834</td>\n",
       "    </tr>\n",
       "  </tbody>\n",
       "</table>\n",
       "</div>"
      ],
      "text/plain": [
       "  category confidence_interval      mean\n",
       "0      3.0        (0.48, 0.56)  0.517471\n",
       "1        0        (0.46, 0.49)  0.474550\n",
       "2        1         (0.5, 0.53)  0.514876\n",
       "3        2         (0.5, 0.53)  0.516834"
      ]
     },
     "execution_count": 987,
     "metadata": {},
     "output_type": "execute_result"
    }
   ],
   "source": [
    "bootstraping_prob(b_data, 'hotel_price_range', n = 100)"
   ]
  },
  {
   "cell_type": "code",
   "execution_count": 988,
   "id": "e7b6c888",
   "metadata": {},
   "outputs": [
    {
     "data": {
      "text/plain": [
       "<AxesSubplot:xlabel='hotel_price_range'>"
      ]
     },
     "execution_count": 988,
     "metadata": {},
     "output_type": "execute_result"
    },
    {
     "data": {
      "image/png": "[encoded data removed]",
      "text/plain": [
       "<Figure size 576x432 with 1 Axes>"
      ]
     },
     "metadata": {
      "needs_background": "light"
     },
     "output_type": "display_data"
    }
   ],
   "source": [
    "get_cancellation_prob(b_data, 'hotel_price_range')"
   ]
  },
  {
   "cell_type": "code",
   "execution_count": 989,
   "id": "def7e6eb",
   "metadata": {
    "scrolled": true
   },
   "outputs": [
    {
     "data": {
      "text/plain": [
       "<AxesSubplot:xlabel='cancellation', ylabel='avg_price'>"
      ]
     },
     "execution_count": 989,
     "metadata": {},
     "output_type": "execute_result"
    },
    {
     "data": {
      "image/png": "[encoded data removed]",
      "text/plain": [
       "<Figure size 576x576 with 1 Axes>"
      ]
     },
     "metadata": {
      "needs_background": "light"
     },
     "output_type": "display_data"
    }
   ],
   "source": [
    "plt.figure(figsize = (8,8))\n",
    "sns.boxplot(x='cancellation', y='avg_price', data = b_data)"
   ]
  },
  {
   "cell_type": "markdown",
   "id": "8a72e55f",
   "metadata": {},
   "source": [
    "# Prediction model\n",
    "\n",
    "Predicting the cancellation event for a given booking is a binary classification task, even though there are many reliable classification algorithms we choose to use the three based model Random Forest (RF), the RF performs well in the vast majority of the cases."
   ]
  },
  {
   "cell_type": "markdown",
   "id": "38b90a6e",
   "metadata": {},
   "source": [
    "## Selecting the usable variables\n",
    "\n",
    "Since we haven't explored and transformed all the available variables we'll select the usable ones to train our classification model.\n",
    "\n",
    "Some of the categorical columns could be easly processed by One-hot-encoding and for those we decided to perform the conversion.\n",
    "\n",
    "*Note: We are aware that this implementation of the p_country feature will insert some data leaking into the model, we will proceed using it for now but for the future we must modify the implementationt o avoid the leaking.*"
   ]
  },
  {
   "cell_type": "code",
   "execution_count": 1083,
   "id": "9991814d",
   "metadata": {
    "scrolled": true
   },
   "outputs": [
    {
     "name": "stderr",
     "output_type": "stream",
     "text": [
      "<ipython-input-1083-87a2c88c98a2>:23: SettingWithCopyWarning: \n",
      "A value is trying to be set on a copy of a slice from a DataFrame.\n",
      "Try using .loc[row_indexer,col_indexer] = value instead\n",
      "\n",
      "See the caveats in the documentation: https://pandas.pydata.org/pandas-docs/stable/user_guide/indexing.html#returning-a-view-versus-a-copy\n",
      "  classification_df[col_names] = data\n",
      "C:\\ProgramData\\Anaconda3\\lib\\site-packages\\pandas\\core\\indexing.py:1738: SettingWithCopyWarning: \n",
      "A value is trying to be set on a copy of a slice from a DataFrame.\n",
      "Try using .loc[row_indexer,col_indexer] = value instead\n",
      "\n",
      "See the caveats in the documentation: https://pandas.pydata.org/pandas-docs/stable/user_guide/indexing.html#returning-a-view-versus-a-copy\n",
      "  self._setitem_single_column(loc, value[:, i].tolist(), pi)\n"
     ]
    },
    {
     "data": {
      "text/html": [
       "<div>\n",
       "<style scoped>\n",
       "    .dataframe tbody tr th:only-of-type {\n",
       "        vertical-align: middle;\n",
       "    }\n",
       "\n",
       "    .dataframe tbody tr th {\n",
       "        vertical-align: top;\n",
       "    }\n",
       "\n",
       "    .dataframe thead th {\n",
       "        text-align: right;\n",
       "    }\n",
       "</style>\n",
       "<table border=\"1\" class=\"dataframe\">\n",
       "  <thead>\n",
       "    <tr style=\"text-align: right;\">\n",
       "      <th></th>\n",
       "      <th>days_between_booking_arrival</th>\n",
       "      <th>num_weekend_nights</th>\n",
       "      <th>num_workweek_nights</th>\n",
       "      <th>num_adults</th>\n",
       "      <th>num_children</th>\n",
       "      <th>num_babies</th>\n",
       "      <th>repeated_guest</th>\n",
       "      <th>num_previous_cancellations</th>\n",
       "      <th>num_previous_stays</th>\n",
       "      <th>changes_between_booking_arrival</th>\n",
       "      <th>...</th>\n",
       "      <th>reserved_room_D</th>\n",
       "      <th>reserved_room_E</th>\n",
       "      <th>reserved_room_F</th>\n",
       "      <th>reserved_room_G</th>\n",
       "      <th>reserved_room_H</th>\n",
       "      <th>reserved_room_L</th>\n",
       "      <th>year_season_fall</th>\n",
       "      <th>year_season_spring</th>\n",
       "      <th>year_season_summer</th>\n",
       "      <th>year_season_winter</th>\n",
       "    </tr>\n",
       "  </thead>\n",
       "  <tbody>\n",
       "    <tr>\n",
       "      <th>10756</th>\n",
       "      <td>221</td>\n",
       "      <td>1</td>\n",
       "      <td>1</td>\n",
       "      <td>2</td>\n",
       "      <td>0.0</td>\n",
       "      <td>0</td>\n",
       "      <td>0</td>\n",
       "      <td>1</td>\n",
       "      <td>0</td>\n",
       "      <td>0</td>\n",
       "      <td>...</td>\n",
       "      <td>0.0</td>\n",
       "      <td>0.0</td>\n",
       "      <td>0.0</td>\n",
       "      <td>0.0</td>\n",
       "      <td>0.0</td>\n",
       "      <td>0.0</td>\n",
       "      <td>1.0</td>\n",
       "      <td>0.0</td>\n",
       "      <td>0.0</td>\n",
       "      <td>0.0</td>\n",
       "    </tr>\n",
       "    <tr>\n",
       "      <th>57278</th>\n",
       "      <td>71</td>\n",
       "      <td>0</td>\n",
       "      <td>4</td>\n",
       "      <td>1</td>\n",
       "      <td>0.0</td>\n",
       "      <td>0</td>\n",
       "      <td>0</td>\n",
       "      <td>0</td>\n",
       "      <td>0</td>\n",
       "      <td>0</td>\n",
       "      <td>...</td>\n",
       "      <td>0.0</td>\n",
       "      <td>0.0</td>\n",
       "      <td>0.0</td>\n",
       "      <td>0.0</td>\n",
       "      <td>0.0</td>\n",
       "      <td>0.0</td>\n",
       "      <td>0.0</td>\n",
       "      <td>1.0</td>\n",
       "      <td>0.0</td>\n",
       "      <td>0.0</td>\n",
       "    </tr>\n",
       "    <tr>\n",
       "      <th>22658</th>\n",
       "      <td>254</td>\n",
       "      <td>1</td>\n",
       "      <td>1</td>\n",
       "      <td>2</td>\n",
       "      <td>0.0</td>\n",
       "      <td>0</td>\n",
       "      <td>0</td>\n",
       "      <td>0</td>\n",
       "      <td>0</td>\n",
       "      <td>0</td>\n",
       "      <td>...</td>\n",
       "      <td>0.0</td>\n",
       "      <td>0.0</td>\n",
       "      <td>0.0</td>\n",
       "      <td>0.0</td>\n",
       "      <td>0.0</td>\n",
       "      <td>0.0</td>\n",
       "      <td>1.0</td>\n",
       "      <td>0.0</td>\n",
       "      <td>0.0</td>\n",
       "      <td>0.0</td>\n",
       "    </tr>\n",
       "    <tr>\n",
       "      <th>32520</th>\n",
       "      <td>18</td>\n",
       "      <td>1</td>\n",
       "      <td>0</td>\n",
       "      <td>2</td>\n",
       "      <td>0.0</td>\n",
       "      <td>0</td>\n",
       "      <td>0</td>\n",
       "      <td>0</td>\n",
       "      <td>0</td>\n",
       "      <td>0</td>\n",
       "      <td>...</td>\n",
       "      <td>0.0</td>\n",
       "      <td>0.0</td>\n",
       "      <td>0.0</td>\n",
       "      <td>0.0</td>\n",
       "      <td>0.0</td>\n",
       "      <td>0.0</td>\n",
       "      <td>0.0</td>\n",
       "      <td>1.0</td>\n",
       "      <td>0.0</td>\n",
       "      <td>0.0</td>\n",
       "    </tr>\n",
       "    <tr>\n",
       "      <th>10671</th>\n",
       "      <td>244</td>\n",
       "      <td>2</td>\n",
       "      <td>5</td>\n",
       "      <td>2</td>\n",
       "      <td>0.0</td>\n",
       "      <td>0</td>\n",
       "      <td>0</td>\n",
       "      <td>1</td>\n",
       "      <td>0</td>\n",
       "      <td>0</td>\n",
       "      <td>...</td>\n",
       "      <td>0.0</td>\n",
       "      <td>0.0</td>\n",
       "      <td>0.0</td>\n",
       "      <td>0.0</td>\n",
       "      <td>0.0</td>\n",
       "      <td>0.0</td>\n",
       "      <td>1.0</td>\n",
       "      <td>0.0</td>\n",
       "      <td>0.0</td>\n",
       "      <td>0.0</td>\n",
       "    </tr>\n",
       "    <tr>\n",
       "      <th>...</th>\n",
       "      <td>...</td>\n",
       "      <td>...</td>\n",
       "      <td>...</td>\n",
       "      <td>...</td>\n",
       "      <td>...</td>\n",
       "      <td>...</td>\n",
       "      <td>...</td>\n",
       "      <td>...</td>\n",
       "      <td>...</td>\n",
       "      <td>...</td>\n",
       "      <td>...</td>\n",
       "      <td>...</td>\n",
       "      <td>...</td>\n",
       "      <td>...</td>\n",
       "      <td>...</td>\n",
       "      <td>...</td>\n",
       "      <td>...</td>\n",
       "      <td>...</td>\n",
       "      <td>...</td>\n",
       "      <td>...</td>\n",
       "      <td>...</td>\n",
       "    </tr>\n",
       "    <tr>\n",
       "      <th>67667</th>\n",
       "      <td>126</td>\n",
       "      <td>2</td>\n",
       "      <td>5</td>\n",
       "      <td>2</td>\n",
       "      <td>0.0</td>\n",
       "      <td>0</td>\n",
       "      <td>0</td>\n",
       "      <td>0</td>\n",
       "      <td>0</td>\n",
       "      <td>0</td>\n",
       "      <td>...</td>\n",
       "      <td>1.0</td>\n",
       "      <td>0.0</td>\n",
       "      <td>0.0</td>\n",
       "      <td>0.0</td>\n",
       "      <td>0.0</td>\n",
       "      <td>0.0</td>\n",
       "      <td>0.0</td>\n",
       "      <td>0.0</td>\n",
       "      <td>1.0</td>\n",
       "      <td>0.0</td>\n",
       "    </tr>\n",
       "    <tr>\n",
       "      <th>78774</th>\n",
       "      <td>179</td>\n",
       "      <td>3</td>\n",
       "      <td>6</td>\n",
       "      <td>2</td>\n",
       "      <td>0.0</td>\n",
       "      <td>0</td>\n",
       "      <td>0</td>\n",
       "      <td>0</td>\n",
       "      <td>0</td>\n",
       "      <td>0</td>\n",
       "      <td>...</td>\n",
       "      <td>0.0</td>\n",
       "      <td>0.0</td>\n",
       "      <td>0.0</td>\n",
       "      <td>0.0</td>\n",
       "      <td>0.0</td>\n",
       "      <td>0.0</td>\n",
       "      <td>1.0</td>\n",
       "      <td>0.0</td>\n",
       "      <td>0.0</td>\n",
       "      <td>0.0</td>\n",
       "    </tr>\n",
       "    <tr>\n",
       "      <th>77683</th>\n",
       "      <td>111</td>\n",
       "      <td>2</td>\n",
       "      <td>1</td>\n",
       "      <td>2</td>\n",
       "      <td>0.0</td>\n",
       "      <td>0</td>\n",
       "      <td>0</td>\n",
       "      <td>0</td>\n",
       "      <td>0</td>\n",
       "      <td>2</td>\n",
       "      <td>...</td>\n",
       "      <td>0.0</td>\n",
       "      <td>0.0</td>\n",
       "      <td>0.0</td>\n",
       "      <td>0.0</td>\n",
       "      <td>0.0</td>\n",
       "      <td>0.0</td>\n",
       "      <td>0.0</td>\n",
       "      <td>0.0</td>\n",
       "      <td>1.0</td>\n",
       "      <td>0.0</td>\n",
       "    </tr>\n",
       "    <tr>\n",
       "      <th>71006</th>\n",
       "      <td>176</td>\n",
       "      <td>2</td>\n",
       "      <td>2</td>\n",
       "      <td>2</td>\n",
       "      <td>0.0</td>\n",
       "      <td>0</td>\n",
       "      <td>0</td>\n",
       "      <td>0</td>\n",
       "      <td>0</td>\n",
       "      <td>0</td>\n",
       "      <td>...</td>\n",
       "      <td>0.0</td>\n",
       "      <td>0.0</td>\n",
       "      <td>0.0</td>\n",
       "      <td>0.0</td>\n",
       "      <td>0.0</td>\n",
       "      <td>0.0</td>\n",
       "      <td>0.0</td>\n",
       "      <td>1.0</td>\n",
       "      <td>0.0</td>\n",
       "      <td>0.0</td>\n",
       "    </tr>\n",
       "    <tr>\n",
       "      <th>53560</th>\n",
       "      <td>20</td>\n",
       "      <td>2</td>\n",
       "      <td>1</td>\n",
       "      <td>2</td>\n",
       "      <td>1.0</td>\n",
       "      <td>0</td>\n",
       "      <td>0</td>\n",
       "      <td>0</td>\n",
       "      <td>0</td>\n",
       "      <td>0</td>\n",
       "      <td>...</td>\n",
       "      <td>0.0</td>\n",
       "      <td>0.0</td>\n",
       "      <td>0.0</td>\n",
       "      <td>0.0</td>\n",
       "      <td>0.0</td>\n",
       "      <td>0.0</td>\n",
       "      <td>0.0</td>\n",
       "      <td>1.0</td>\n",
       "      <td>0.0</td>\n",
       "      <td>0.0</td>\n",
       "    </tr>\n",
       "  </tbody>\n",
       "</table>\n",
       "<p>87831 rows × 46 columns</p>\n",
       "</div>"
      ],
      "text/plain": [
       "       days_between_booking_arrival  num_weekend_nights  num_workweek_nights  \\\n",
       "10756                           221                   1                    1   \n",
       "57278                            71                   0                    4   \n",
       "22658                           254                   1                    1   \n",
       "32520                            18                   1                    0   \n",
       "10671                           244                   2                    5   \n",
       "...                             ...                 ...                  ...   \n",
       "67667                           126                   2                    5   \n",
       "78774                           179                   3                    6   \n",
       "77683                           111                   2                    1   \n",
       "71006                           176                   2                    2   \n",
       "53560                            20                   2                    1   \n",
       "\n",
       "       num_adults  num_children  num_babies  repeated_guest  \\\n",
       "10756           2           0.0           0               0   \n",
       "57278           1           0.0           0               0   \n",
       "22658           2           0.0           0               0   \n",
       "32520           2           0.0           0               0   \n",
       "10671           2           0.0           0               0   \n",
       "...           ...           ...         ...             ...   \n",
       "67667           2           0.0           0               0   \n",
       "78774           2           0.0           0               0   \n",
       "77683           2           0.0           0               0   \n",
       "71006           2           0.0           0               0   \n",
       "53560           2           1.0           0               0   \n",
       "\n",
       "       num_previous_cancellations  num_previous_stays  \\\n",
       "10756                           1                   0   \n",
       "57278                           0                   0   \n",
       "22658                           0                   0   \n",
       "32520                           0                   0   \n",
       "10671                           1                   0   \n",
       "...                           ...                 ...   \n",
       "67667                           0                   0   \n",
       "78774                           0                   0   \n",
       "77683                           0                   0   \n",
       "71006                           0                   0   \n",
       "53560                           0                   0   \n",
       "\n",
       "       changes_between_booking_arrival  ...  reserved_room_D  reserved_room_E  \\\n",
       "10756                                0  ...              0.0              0.0   \n",
       "57278                                0  ...              0.0              0.0   \n",
       "22658                                0  ...              0.0              0.0   \n",
       "32520                                0  ...              0.0              0.0   \n",
       "10671                                0  ...              0.0              0.0   \n",
       "...                                ...  ...              ...              ...   \n",
       "67667                                0  ...              1.0              0.0   \n",
       "78774                                0  ...              0.0              0.0   \n",
       "77683                                2  ...              0.0              0.0   \n",
       "71006                                0  ...              0.0              0.0   \n",
       "53560                                0  ...              0.0              0.0   \n",
       "\n",
       "       reserved_room_F  reserved_room_G reserved_room_H  reserved_room_L  \\\n",
       "10756              0.0              0.0             0.0              0.0   \n",
       "57278              0.0              0.0             0.0              0.0   \n",
       "22658              0.0              0.0             0.0              0.0   \n",
       "32520              0.0              0.0             0.0              0.0   \n",
       "10671              0.0              0.0             0.0              0.0   \n",
       "...                ...              ...             ...              ...   \n",
       "67667              0.0              0.0             0.0              0.0   \n",
       "78774              0.0              0.0             0.0              0.0   \n",
       "77683              0.0              0.0             0.0              0.0   \n",
       "71006              0.0              0.0             0.0              0.0   \n",
       "53560              0.0              0.0             0.0              0.0   \n",
       "\n",
       "       year_season_fall  year_season_spring  year_season_summer  \\\n",
       "10756               1.0                 0.0                 0.0   \n",
       "57278               0.0                 1.0                 0.0   \n",
       "22658               1.0                 0.0                 0.0   \n",
       "32520               0.0                 1.0                 0.0   \n",
       "10671               1.0                 0.0                 0.0   \n",
       "...                 ...                 ...                 ...   \n",
       "67667               0.0                 0.0                 1.0   \n",
       "78774               1.0                 0.0                 0.0   \n",
       "77683               0.0                 0.0                 1.0   \n",
       "71006               0.0                 1.0                 0.0   \n",
       "53560               0.0                 1.0                 0.0   \n",
       "\n",
       "      year_season_winter  \n",
       "10756                0.0  \n",
       "57278                0.0  \n",
       "22658                0.0  \n",
       "32520                0.0  \n",
       "10671                0.0  \n",
       "...                  ...  \n",
       "67667                0.0  \n",
       "78774                0.0  \n",
       "77683                0.0  \n",
       "71006                0.0  \n",
       "53560                0.0  \n",
       "\n",
       "[87831 rows x 46 columns]"
      ]
     },
     "execution_count": 1083,
     "metadata": {},
     "output_type": "execute_result"
    }
   ],
   "source": [
    "b_data['high_cancellation_market'] = get_high_cancellation_market(b_data)\n",
    "b_data['low_cancellation_market'] = get_low_cancellation_market(b_data)\n",
    "b_data['p_country'] = get_p_country(b_data)\n",
    "\n",
    "classification_cols = ['days_between_booking_arrival', 'num_weekend_nights', 'num_workweek_nights',\n",
    " 'num_adults','num_children', 'num_babies', 'repeated_guest', 'num_previous_cancellations',\n",
    " 'num_previous_stays','changes_between_booking_arrival', 'customer_type', 'distribution_channel',\n",
    " 'avg_price', 'required_car_parking_spaces', 'total_of_special_requests', 'fancy_hotel?',\n",
    " 'booking_arrival_distance', 'total_nights', 'num_of_guests', 'cancellled_before?',\n",
    " 'booking_changed?', 'hotel_price_range', 'required_parking_space?', 'special_requests?',\n",
    " 'year_season', 'reserved_room', 'high_cancellation_market', 'low_cancellation_market','p_country']\n",
    "\n",
    "oht_cols = ['distribution_channel', 'customer_type', 'reserved_room','year_season']\n",
    "\n",
    "classification_df = b_data[classification_cols]\n",
    "target = b_data['cancellation']\n",
    "\n",
    "for col in oht_cols:\n",
    "    ohe = OneHotEncoder()\n",
    "    data = ohe.fit_transform(classification_df[col].values.reshape(-1, 1)).toarray()\n",
    "    col_names = ohe.get_feature_names([col])\n",
    "    \n",
    "    classification_df[col_names] = data\n",
    "    \n",
    "    classification_df = classification_df.drop(columns = col)\n",
    "\n",
    "classification_df"
   ]
  },
  {
   "cell_type": "markdown",
   "id": "bec4d42f",
   "metadata": {},
   "source": [
    "## Creating model and displaying the results\n",
    "\n",
    "As mentioned before, we decided to instance a Random Forest model as it performs well for most classification tasks.\n",
    "We validated the results with a crossvalidation setup of 10 folds. Altough the temporal split of the dataset (recent samples -> validation / older samples -> training) is more suited to predict the behavior of the model for future entries, the crossvalidation approach brings more stability and reliability to the results analysis.\n",
    "\n",
    "The model displayed very good results while remained consistent among the classes:\n",
    "\n",
    "**Accuracy**: 85%\n",
    "\n",
    "**ROC_AUC**: 0.93\n",
    "\n",
    "**F1-Score**: 85%\n"
   ]
  },
  {
   "cell_type": "code",
   "execution_count": 1085,
   "id": "93cf5116",
   "metadata": {},
   "outputs": [],
   "source": [
    "rf = RandomForestClassifier(random_state = 42)\n",
    "\n",
    "cv_split = ShuffleSplit(n_splits = 10, test_size = .3, train_size = .6, random_state = 42 )\n",
    "\n",
    "scores = pd.DataFrame()\n",
    "\n",
    "cv_results = cross_validate(rf, classification_df, target, cv  = cv_split, \n",
    "                            scoring = ['accuracy', 'roc_auc', 'precision', 'recall', 'f1'])"
   ]
  },
  {
   "cell_type": "code",
   "execution_count": 1086,
   "id": "308ec5bf",
   "metadata": {},
   "outputs": [
    {
     "data": {
      "text/html": [
       "<div>\n",
       "<style scoped>\n",
       "    .dataframe tbody tr th:only-of-type {\n",
       "        vertical-align: middle;\n",
       "    }\n",
       "\n",
       "    .dataframe tbody tr th {\n",
       "        vertical-align: top;\n",
       "    }\n",
       "\n",
       "    .dataframe thead th {\n",
       "        text-align: right;\n",
       "    }\n",
       "</style>\n",
       "<table border=\"1\" class=\"dataframe\">\n",
       "  <thead>\n",
       "    <tr style=\"text-align: right;\">\n",
       "      <th></th>\n",
       "      <th>accuracy</th>\n",
       "      <th>roc_auc</th>\n",
       "      <th>precisiom</th>\n",
       "      <th>recall</th>\n",
       "      <th>f1-score</th>\n",
       "    </tr>\n",
       "  </thead>\n",
       "  <tbody>\n",
       "    <tr>\n",
       "      <th>0</th>\n",
       "      <td>0.851803</td>\n",
       "      <td>0.933933</td>\n",
       "      <td>0.865344</td>\n",
       "      <td>0.834518</td>\n",
       "      <td>0.849652</td>\n",
       "    </tr>\n",
       "    <tr>\n",
       "      <th>1</th>\n",
       "      <td>0.852751</td>\n",
       "      <td>0.936165</td>\n",
       "      <td>0.864172</td>\n",
       "      <td>0.837864</td>\n",
       "      <td>0.850815</td>\n",
       "    </tr>\n",
       "    <tr>\n",
       "      <th>2</th>\n",
       "      <td>0.849564</td>\n",
       "      <td>0.934536</td>\n",
       "      <td>0.863665</td>\n",
       "      <td>0.833959</td>\n",
       "      <td>0.848552</td>\n",
       "    </tr>\n",
       "    <tr>\n",
       "      <th>3</th>\n",
       "      <td>0.855180</td>\n",
       "      <td>0.936503</td>\n",
       "      <td>0.871357</td>\n",
       "      <td>0.836492</td>\n",
       "      <td>0.853569</td>\n",
       "    </tr>\n",
       "    <tr>\n",
       "      <th>4</th>\n",
       "      <td>0.856395</td>\n",
       "      <td>0.937333</td>\n",
       "      <td>0.870462</td>\n",
       "      <td>0.838888</td>\n",
       "      <td>0.854383</td>\n",
       "    </tr>\n",
       "    <tr>\n",
       "      <th>5</th>\n",
       "      <td>0.852258</td>\n",
       "      <td>0.934912</td>\n",
       "      <td>0.865330</td>\n",
       "      <td>0.835690</td>\n",
       "      <td>0.850252</td>\n",
       "    </tr>\n",
       "    <tr>\n",
       "      <th>6</th>\n",
       "      <td>0.854573</td>\n",
       "      <td>0.936445</td>\n",
       "      <td>0.867604</td>\n",
       "      <td>0.840075</td>\n",
       "      <td>0.853618</td>\n",
       "    </tr>\n",
       "    <tr>\n",
       "      <th>7</th>\n",
       "      <td>0.852713</td>\n",
       "      <td>0.936229</td>\n",
       "      <td>0.869272</td>\n",
       "      <td>0.833371</td>\n",
       "      <td>0.850943</td>\n",
       "    </tr>\n",
       "    <tr>\n",
       "      <th>8</th>\n",
       "      <td>0.848880</td>\n",
       "      <td>0.934023</td>\n",
       "      <td>0.857266</td>\n",
       "      <td>0.835986</td>\n",
       "      <td>0.846492</td>\n",
       "    </tr>\n",
       "    <tr>\n",
       "      <th>9</th>\n",
       "      <td>0.851537</td>\n",
       "      <td>0.935449</td>\n",
       "      <td>0.864369</td>\n",
       "      <td>0.836635</td>\n",
       "      <td>0.850276</td>\n",
       "    </tr>\n",
       "  </tbody>\n",
       "</table>\n",
       "</div>"
      ],
      "text/plain": [
       "   accuracy   roc_auc  precisiom    recall  f1-score\n",
       "0  0.851803  0.933933   0.865344  0.834518  0.849652\n",
       "1  0.852751  0.936165   0.864172  0.837864  0.850815\n",
       "2  0.849564  0.934536   0.863665  0.833959  0.848552\n",
       "3  0.855180  0.936503   0.871357  0.836492  0.853569\n",
       "4  0.856395  0.937333   0.870462  0.838888  0.854383\n",
       "5  0.852258  0.934912   0.865330  0.835690  0.850252\n",
       "6  0.854573  0.936445   0.867604  0.840075  0.853618\n",
       "7  0.852713  0.936229   0.869272  0.833371  0.850943\n",
       "8  0.848880  0.934023   0.857266  0.835986  0.846492\n",
       "9  0.851537  0.935449   0.864369  0.836635  0.850276"
      ]
     },
     "execution_count": 1086,
     "metadata": {},
     "output_type": "execute_result"
    }
   ],
   "source": [
    "results = pd.DataFrame()\n",
    "results['accuracy'] = cv_results['test_accuracy']\n",
    "results['roc_auc'] = cv_results['test_roc_auc']\n",
    "results['precisiom'] = cv_results['test_precision']\n",
    "results['recall'] = cv_results['test_recall']\n",
    "results['f1-score'] = cv_results['test_f1']\n",
    "results"
   ]
  },
  {
   "cell_type": "code",
   "execution_count": 1089,
   "id": "ee8bf16d",
   "metadata": {},
   "outputs": [
    {
     "data": {
      "text/plain": [
       "accuracy     0.852565\n",
       "roc_auc      0.935553\n",
       "precisiom    0.865884\n",
       "recall       0.836348\n",
       "f1-score     0.850855\n",
       "dtype: float64"
      ]
     },
     "execution_count": 1089,
     "metadata": {},
     "output_type": "execute_result"
    }
   ],
   "source": [
    "results.mean()"
   ]
  },
  {
   "cell_type": "markdown",
   "id": "e28b31ae",
   "metadata": {},
   "source": [
    "## Feature importance\n",
    "\n",
    "Taking a quick look at the importances attributed by the Random Forest model we could notice that the most important variables to decide wether a booking will result in a cancellation or not are:\n",
    "\n",
    "- **days_between_booking_arrival** : it seems that as far the booking is from the arrival, as likely is the booking to be cancelled.\n",
    "- **p_country**: as mentioned before, different countries have different cancellation profiles.\n",
    "- **avg_price**: the variable performed suprisingly well in this tree based model, we'll need to perform further analysis on it to understand how it affects the cancellation event."
   ]
  },
  {
   "cell_type": "code",
   "execution_count": 1087,
   "id": "119ff671",
   "metadata": {},
   "outputs": [
    {
     "data": {
      "text/plain": [
       "RandomForestClassifier(random_state=42)"
      ]
     },
     "execution_count": 1087,
     "metadata": {},
     "output_type": "execute_result"
    }
   ],
   "source": [
    "rf = RandomForestClassifier(random_state = 42)\n",
    "rf.fit(classification_df, target)"
   ]
  },
  {
   "cell_type": "code",
   "execution_count": 1088,
   "id": "3c46b75c",
   "metadata": {
    "scrolled": true
   },
   "outputs": [
    {
     "data": {
      "text/html": [
       "<div>\n",
       "<style scoped>\n",
       "    .dataframe tbody tr th:only-of-type {\n",
       "        vertical-align: middle;\n",
       "    }\n",
       "\n",
       "    .dataframe tbody tr th {\n",
       "        vertical-align: top;\n",
       "    }\n",
       "\n",
       "    .dataframe thead th {\n",
       "        text-align: right;\n",
       "    }\n",
       "</style>\n",
       "<table border=\"1\" class=\"dataframe\">\n",
       "  <thead>\n",
       "    <tr style=\"text-align: right;\">\n",
       "      <th></th>\n",
       "      <th>score</th>\n",
       "    </tr>\n",
       "  </thead>\n",
       "  <tbody>\n",
       "    <tr>\n",
       "      <th>days_between_booking_arrival</th>\n",
       "      <td>0.150097</td>\n",
       "    </tr>\n",
       "    <tr>\n",
       "      <th>p_country</th>\n",
       "      <td>0.144622</td>\n",
       "    </tr>\n",
       "    <tr>\n",
       "      <th>avg_price</th>\n",
       "      <td>0.119716</td>\n",
       "    </tr>\n",
       "    <tr>\n",
       "      <th>booking_arrival_distance</th>\n",
       "      <td>0.056880</td>\n",
       "    </tr>\n",
       "    <tr>\n",
       "      <th>total_nights</th>\n",
       "      <td>0.041991</td>\n",
       "    </tr>\n",
       "    <tr>\n",
       "      <th>total_of_special_requests</th>\n",
       "      <td>0.041696</td>\n",
       "    </tr>\n",
       "    <tr>\n",
       "      <th>num_workweek_nights</th>\n",
       "      <td>0.038562</td>\n",
       "    </tr>\n",
       "    <tr>\n",
       "      <th>customer_type_0</th>\n",
       "      <td>0.032370</td>\n",
       "    </tr>\n",
       "    <tr>\n",
       "      <th>special_requests?</th>\n",
       "      <td>0.032154</td>\n",
       "    </tr>\n",
       "    <tr>\n",
       "      <th>num_weekend_nights</th>\n",
       "      <td>0.026420</td>\n",
       "    </tr>\n",
       "    <tr>\n",
       "      <th>hotel_price_range</th>\n",
       "      <td>0.023842</td>\n",
       "    </tr>\n",
       "    <tr>\n",
       "      <th>customer_type_2</th>\n",
       "      <td>0.022722</td>\n",
       "    </tr>\n",
       "    <tr>\n",
       "      <th>required_car_parking_spaces</th>\n",
       "      <td>0.017895</td>\n",
       "    </tr>\n",
       "    <tr>\n",
       "      <th>changes_between_booking_arrival</th>\n",
       "      <td>0.016886</td>\n",
       "    </tr>\n",
       "    <tr>\n",
       "      <th>num_previous_cancellations</th>\n",
       "      <td>0.016864</td>\n",
       "    </tr>\n",
       "    <tr>\n",
       "      <th>required_parking_space?</th>\n",
       "      <td>0.016047</td>\n",
       "    </tr>\n",
       "    <tr>\n",
       "      <th>cancellled_before?</th>\n",
       "      <td>0.015456</td>\n",
       "    </tr>\n",
       "    <tr>\n",
       "      <th>high_cancellation_market</th>\n",
       "      <td>0.015354</td>\n",
       "    </tr>\n",
       "    <tr>\n",
       "      <th>num_of_guests</th>\n",
       "      <td>0.015319</td>\n",
       "    </tr>\n",
       "    <tr>\n",
       "      <th>booking_changed?</th>\n",
       "      <td>0.013975</td>\n",
       "    </tr>\n",
       "    <tr>\n",
       "      <th>fancy_hotel?</th>\n",
       "      <td>0.013895</td>\n",
       "    </tr>\n",
       "    <tr>\n",
       "      <th>num_adults</th>\n",
       "      <td>0.011551</td>\n",
       "    </tr>\n",
       "    <tr>\n",
       "      <th>year_season_summer</th>\n",
       "      <td>0.010704</td>\n",
       "    </tr>\n",
       "    <tr>\n",
       "      <th>year_season_spring</th>\n",
       "      <td>0.010410</td>\n",
       "    </tr>\n",
       "    <tr>\n",
       "      <th>low_cancellation_market</th>\n",
       "      <td>0.010327</td>\n",
       "    </tr>\n",
       "    <tr>\n",
       "      <th>distribution_channel_2</th>\n",
       "      <td>0.010007</td>\n",
       "    </tr>\n",
       "    <tr>\n",
       "      <th>year_season_fall</th>\n",
       "      <td>0.009792</td>\n",
       "    </tr>\n",
       "    <tr>\n",
       "      <th>reserved_room_A</th>\n",
       "      <td>0.008851</td>\n",
       "    </tr>\n",
       "    <tr>\n",
       "      <th>year_season_winter</th>\n",
       "      <td>0.008336</td>\n",
       "    </tr>\n",
       "    <tr>\n",
       "      <th>reserved_room_D</th>\n",
       "      <td>0.007785</td>\n",
       "    </tr>\n",
       "    <tr>\n",
       "      <th>distribution_channel_0</th>\n",
       "      <td>0.006816</td>\n",
       "    </tr>\n",
       "    <tr>\n",
       "      <th>num_children</th>\n",
       "      <td>0.005955</td>\n",
       "    </tr>\n",
       "    <tr>\n",
       "      <th>num_previous_stays</th>\n",
       "      <td>0.004693</td>\n",
       "    </tr>\n",
       "    <tr>\n",
       "      <th>reserved_room_E</th>\n",
       "      <td>0.004363</td>\n",
       "    </tr>\n",
       "    <tr>\n",
       "      <th>customer_type_1</th>\n",
       "      <td>0.003843</td>\n",
       "    </tr>\n",
       "    <tr>\n",
       "      <th>distribution_channel_1</th>\n",
       "      <td>0.002616</td>\n",
       "    </tr>\n",
       "    <tr>\n",
       "      <th>repeated_guest</th>\n",
       "      <td>0.002572</td>\n",
       "    </tr>\n",
       "    <tr>\n",
       "      <th>reserved_room_F</th>\n",
       "      <td>0.002092</td>\n",
       "    </tr>\n",
       "    <tr>\n",
       "      <th>reserved_room_G</th>\n",
       "      <td>0.001727</td>\n",
       "    </tr>\n",
       "    <tr>\n",
       "      <th>reserved_room_B</th>\n",
       "      <td>0.001621</td>\n",
       "    </tr>\n",
       "    <tr>\n",
       "      <th>reserved_room_C</th>\n",
       "      <td>0.001025</td>\n",
       "    </tr>\n",
       "    <tr>\n",
       "      <th>num_babies</th>\n",
       "      <td>0.000911</td>\n",
       "    </tr>\n",
       "    <tr>\n",
       "      <th>reserved_room_H</th>\n",
       "      <td>0.000506</td>\n",
       "    </tr>\n",
       "    <tr>\n",
       "      <th>customer_type_3</th>\n",
       "      <td>0.000370</td>\n",
       "    </tr>\n",
       "    <tr>\n",
       "      <th>distribution_channel_4</th>\n",
       "      <td>0.000340</td>\n",
       "    </tr>\n",
       "    <tr>\n",
       "      <th>reserved_room_L</th>\n",
       "      <td>0.000025</td>\n",
       "    </tr>\n",
       "  </tbody>\n",
       "</table>\n",
       "</div>"
      ],
      "text/plain": [
       "                                    score\n",
       "days_between_booking_arrival     0.150097\n",
       "p_country                        0.144622\n",
       "avg_price                        0.119716\n",
       "booking_arrival_distance         0.056880\n",
       "total_nights                     0.041991\n",
       "total_of_special_requests        0.041696\n",
       "num_workweek_nights              0.038562\n",
       "customer_type_0                  0.032370\n",
       "special_requests?                0.032154\n",
       "num_weekend_nights               0.026420\n",
       "hotel_price_range                0.023842\n",
       "customer_type_2                  0.022722\n",
       "required_car_parking_spaces      0.017895\n",
       "changes_between_booking_arrival  0.016886\n",
       "num_previous_cancellations       0.016864\n",
       "required_parking_space?          0.016047\n",
       "cancellled_before?               0.015456\n",
       "high_cancellation_market         0.015354\n",
       "num_of_guests                    0.015319\n",
       "booking_changed?                 0.013975\n",
       "fancy_hotel?                     0.013895\n",
       "num_adults                       0.011551\n",
       "year_season_summer               0.010704\n",
       "year_season_spring               0.010410\n",
       "low_cancellation_market          0.010327\n",
       "distribution_channel_2           0.010007\n",
       "year_season_fall                 0.009792\n",
       "reserved_room_A                  0.008851\n",
       "year_season_winter               0.008336\n",
       "reserved_room_D                  0.007785\n",
       "distribution_channel_0           0.006816\n",
       "num_children                     0.005955\n",
       "num_previous_stays               0.004693\n",
       "reserved_room_E                  0.004363\n",
       "customer_type_1                  0.003843\n",
       "distribution_channel_1           0.002616\n",
       "repeated_guest                   0.002572\n",
       "reserved_room_F                  0.002092\n",
       "reserved_room_G                  0.001727\n",
       "reserved_room_B                  0.001621\n",
       "reserved_room_C                  0.001025\n",
       "num_babies                       0.000911\n",
       "reserved_room_H                  0.000506\n",
       "customer_type_3                  0.000370\n",
       "distribution_channel_4           0.000340\n",
       "reserved_room_L                  0.000025"
      ]
     },
     "execution_count": 1088,
     "metadata": {},
     "output_type": "execute_result"
    }
   ],
   "source": [
    "f_importance = pd.DataFrame(index = classification_df.columns)\n",
    "f_importance['score'] = rf.feature_importances_\n",
    "f_importance.sort_values('score', ascending = False)"
   ]
  },
  {
   "cell_type": "markdown",
   "id": "c0f349a3",
   "metadata": {},
   "source": [
    "# Next steps\n",
    "\n",
    "Due to the limited time to perform this analysis some very important steps of the modeling proccess were left aside.\n",
    "\n",
    "- Exploratory analysis for all available features.\n",
    "- Exploratory analysis of nested variables, for example: country + month\n",
    "- Proper feature selection and dimensional reduction in the dataset to optimize our results.\n",
    "- Model selection to select the algorithm that better fit the task needs.\n",
    "- Hyper parameter optimization to enhance models performance.\n"
   ]
  }
 ],
 "metadata": {
  "kernelspec": {
   "display_name": "Python 3",
   "language": "python",
   "name": "python3"
  },
  "language_info": {
   "codemirror_mode": {
    "name": "ipython",
    "version": 3
   },
   "file_extension": ".py",
   "mimetype": "text/x-python",
   "name": "python",
   "nbconvert_exporter": "python",
   "pygments_lexer": "ipython3",
   "version": "3.8.8"
  }
 },
 "nbformat": 4,
 "nbformat_minor": 5
}
